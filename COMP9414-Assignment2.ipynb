{
  "cells": [
    {
      "cell_type": "markdown",
      "metadata": {
        "id": "BKFGPf6E4k4P"
      },
      "source": [
        "[![Open In Colab](https://colab.research.google.com/assets/colab-badge.svg)](https://colab.research.google.com/github/UNSW-COMP9414/Assignment2/blob/main/COMP9414-Assignment2.ipynb)\n",
        "\n",
        "# COMP9414 24T3 - Assignment 2 - Neural Networks, Decision Trees and Random Forests\n",
        "\n",
        "## UNSW Sydney\n",
        "\n",
        "Designed by Gustavo Batista.\n",
        "\n",
        "Last change: 20th October, 2024."
      ]
    },
    {
      "cell_type": "markdown",
      "metadata": {
        "id": "3YNuJNB24k4S"
      },
      "source": [
        "YuFan Chen---z5222107"
      ]
    },
    {
      "cell_type": "markdown",
      "metadata": {
        "id": "gxUYOQHi4k4S"
      },
      "source": [
        "## Instructions\n",
        "\n",
        "**Submission deadline:** Friday, 8th November 2024, at 17:00:00 AEDT.\n",
        "\n",
        "**Submission:** You can submit your solution via the give system using the command ``give cs9414 ass2 ass2.ipynb``.\n",
        "\n",
        "**Instructions:**\n",
        "* This is an **individual** assignment.\n",
        "* Write your name and zID on the top of this Jupyter Notebook.\n",
        "* You can only use the libraries listed in this notebook\n",
        "* You can reuse any piece of source code developed in the tutorials.\n",
        "* Do not modify the existing code in this notebook except to answer the questions. The cells that should be modified are indicated.\n",
        "* If you want to submit additional code (e.g., for generating plots), write it at the end of the notebook.\n",
        "* This notebook is worth **75** marks and will be rescaled to **25** marks.\n",
        "\n",
        "**Late Submission Policy:** A 5% reduction of the assignment value (i.e. 1.25 marks) will be applied per day for late submissions. For example, if an assignment gets an on-time mark of $20/25$ but is submitted three days late, the penalty will be $3*1.25 = 3.75$, so the final mark will be $16.25$. After five days, the assignment total mark will be reduced to 0 ($100\\%$ reduction). An assignment is considered one day late if submitted any time after the submission deadline, up to 24 hours past it.\n",
        "\n",
        "**Plagiarism:**\n",
        "\n",
        "Remember that ALL work submitted for this assignment must be your own work, and no sharing or copying of code or answers is allowed. You may discuss the assignment with other students but must not collaborate to develop answers to the questions. You may use code from the Internet only with suitable attribution of the source. You may not use ChatGPT or any similar software to generate any part of your explanations, evaluations or code. Do not use public code repositories on sites such as GitHub or file-sharing sites such as Google Drive to save any part of your work &ndash; make sure your code repository or cloud storage is private, and do not share any links. This also applies after you have finished the course, as we do not want next year’s students accessing your solution, and plagiarism penalties can still apply after the course has finished.\n",
        "\n",
        "All submitted assignments will be run through plagiarism detection software to detect similarities to other submissions, including from past years. You should **carefully** read the UNSW policy on academic integrity and plagiarism (linked from the course web page), noting, in particular, that collusion (working together on an assignment or sharing parts of assignment solutions) is a form of plagiarism.\n",
        "\n",
        "Finally, do not use any contract cheating “academies” or online “tutoring” services. This counts as serious misconduct with heavy penalties up to automatic failure of the course with 0 marks and expulsion from the university for repeat offenders."
      ]
    },
    {
      "cell_type": "markdown",
      "metadata": {
        "id": "hZFxPkhX4k4T"
      },
      "source": [
        "## Technical prerequisites\n",
        "\n",
        "These are the libraries you are allowed to use. No other libraries will be accepted. Make sure you are using Python 3."
      ]
    },
    {
      "cell_type": "code",
      "source": [
        "!pip install keras_tuner"
      ],
      "metadata": {
        "colab": {
          "base_uri": "https://localhost:8080/"
        },
        "id": "Q8zb76xz5sXq",
        "outputId": "93d36e5f-5530-49bc-a623-0c92f3fd4c4f"
      },
      "execution_count": 1,
      "outputs": [
        {
          "metadata": {
            "tags": null
          },
          "name": "stdout",
          "output_type": "stream",
          "text": [
            "Collecting keras_tuner\n",
            "  Downloading keras_tuner-1.4.7-py3-none-any.whl.metadata (5.4 kB)\n",
            "Requirement already satisfied: keras in /usr/local/lib/python3.10/dist-packages (from keras_tuner) (3.5.0)\n",
            "Requirement already satisfied: packaging in /usr/local/lib/python3.10/dist-packages (from keras_tuner) (24.2)\n",
            "Requirement already satisfied: requests in /usr/local/lib/python3.10/dist-packages (from keras_tuner) (2.32.3)\n",
            "Collecting kt-legacy (from keras_tuner)\n",
            "  Downloading kt_legacy-1.0.5-py3-none-any.whl.metadata (221 bytes)\n",
            "Requirement already satisfied: absl-py in /usr/local/lib/python3.10/dist-packages (from keras->keras_tuner) (1.4.0)\n",
            "Requirement already satisfied: numpy in /usr/local/lib/python3.10/dist-packages (from keras->keras_tuner) (1.26.4)\n",
            "Requirement already satisfied: rich in /usr/local/lib/python3.10/dist-packages (from keras->keras_tuner) (13.9.4)\n",
            "Requirement already satisfied: namex in /usr/local/lib/python3.10/dist-packages (from keras->keras_tuner) (0.0.8)\n",
            "Requirement already satisfied: h5py in /usr/local/lib/python3.10/dist-packages (from keras->keras_tuner) (3.12.1)\n",
            "Requirement already satisfied: optree in /usr/local/lib/python3.10/dist-packages (from keras->keras_tuner) (0.13.1)\n",
            "Requirement already satisfied: ml-dtypes in /usr/local/lib/python3.10/dist-packages (from keras->keras_tuner) (0.4.1)\n",
            "Requirement already satisfied: charset-normalizer<4,>=2 in /usr/local/lib/python3.10/dist-packages (from requests->keras_tuner) (3.4.0)\n",
            "Requirement already satisfied: idna<4,>=2.5 in /usr/local/lib/python3.10/dist-packages (from requests->keras_tuner) (3.10)\n",
            "Requirement already satisfied: urllib3<3,>=1.21.1 in /usr/local/lib/python3.10/dist-packages (from requests->keras_tuner) (2.2.3)\n",
            "Requirement already satisfied: certifi>=2017.4.17 in /usr/local/lib/python3.10/dist-packages (from requests->keras_tuner) (2024.8.30)\n",
            "Requirement already satisfied: typing-extensions>=4.5.0 in /usr/local/lib/python3.10/dist-packages (from optree->keras->keras_tuner) (4.12.2)\n",
            "Requirement already satisfied: markdown-it-py>=2.2.0 in /usr/local/lib/python3.10/dist-packages (from rich->keras->keras_tuner) (3.0.0)\n",
            "Requirement already satisfied: pygments<3.0.0,>=2.13.0 in /usr/local/lib/python3.10/dist-packages (from rich->keras->keras_tuner) (2.18.0)\n",
            "Requirement already satisfied: mdurl~=0.1 in /usr/local/lib/python3.10/dist-packages (from markdown-it-py>=2.2.0->rich->keras->keras_tuner) (0.1.2)\n",
            "Downloading keras_tuner-1.4.7-py3-none-any.whl (129 kB)\n",
            "\u001b[2K   \u001b[90m━━━━━━━━━━━━━━━━━━━━━━━━━━━━━━━━━━━━━━━━\u001b[0m \u001b[32m129.1/129.1 kB\u001b[0m \u001b[31m2.8 MB/s\u001b[0m eta \u001b[36m0:00:00\u001b[0m\n",
            "\u001b[?25hDownloading kt_legacy-1.0.5-py3-none-any.whl (9.6 kB)\n",
            "Installing collected packages: kt-legacy, keras_tuner\n",
            "Successfully installed keras_tuner-1.4.7 kt-legacy-1.0.5\n"
          ]
        }
      ]
    },
    {
      "cell_type": "code",
      "execution_count": 2,
      "metadata": {
        "id": "9Ygumpuq4k4T"
      },
      "outputs": [],
      "source": [
        "# These are the allowed libraries. You can add other libraries used in the tutorials.\n",
        "\n",
        "# Common Python libraries\n",
        "import math\n",
        "import copy\n",
        "import requests\n",
        "import zipfile\n",
        "import os\n",
        "import time\n",
        "import numpy as np\n",
        "import pandas as pd\n",
        "import scipy as sp\n",
        "import matplotlib as mp\n",
        "import matplotlib.pyplot as plt\n",
        "from collections import defaultdict\n",
        "\n",
        "# Scikit-Learn libraries for data preprocessing and model assessment\n",
        "from sklearn.impute import SimpleImputer\n",
        "from sklearn.preprocessing import MinMaxScaler\n",
        "from sklearn.metrics import accuracy_score, mean_squared_error\n",
        "from sklearn.metrics import confusion_matrix, ConfusionMatrixDisplay\n",
        "\n",
        "# Libraries for the tree models\n",
        "from sklearn.tree import DecisionTreeClassifier, DecisionTreeRegressor\n",
        "from sklearn.ensemble import RandomForestClassifier, RandomForestRegressor\n",
        "\n",
        "# Scikit-learn libraries for hyperparameter tuning\n",
        "from sklearn.model_selection import RandomizedSearchCV\n",
        "\n",
        "# Tensorflow/keras libraries for shallow and deep-learning models\n",
        "import tensorflow as tf\n",
        "from tensorflow.keras.models import Sequential\n",
        "from tensorflow.keras.layers import Input, Dense, Flatten, Dropout\n",
        "from tensorflow.keras.optimizers import Adam, SGD, RMSprop\n",
        "\n",
        "# Keras Tuner libraries for hyperparameter tuning\n",
        "from keras_tuner import HyperModel\n",
        "from keras_tuner.tuners import RandomSearch\n",
        "\n",
        "# Libraries to present results in tabular format\n",
        "from tabulate import tabulate"
      ]
    },
    {
      "cell_type": "markdown",
      "metadata": {
        "id": "aZ5si-N24k4U"
      },
      "source": [
        "This assignment compares three Machine Learning approaches: Neural Networks, Decision Trees, and Random Forests. We will assess these approaches in five benchmark datasets with diverse characteristics.\n",
        "\n",
        "We would like to test a few hypotheses based on common Machine Learning wisdom and misconceptions.\n",
        "\n",
        "1. Neural networks are the best general classifiers regarding prediction quality (accuracy, error rate, precision, recall, etc.).\n",
        "2. Neural networks are time-consuming for training as fitting model parameters is slow and has many hyperparameters.\n",
        "3. Random forests are an excellent compromise between classification performance and hyperparameter tuning. They can often provide competitive accuracy without requiring much hyperparameter tuning.\n",
        "4. Neural networks are data-hungry and perform poorly in small datasets.\n",
        "5. Decision trees offer model interpretability but are not competitive in accuracy.\n",
        "6. Neural networks are the best models when learning from unstructured data such as images.\n",
        "7. Random forests are the best models when learning from structured data such as a tabular dataset."
      ]
    },
    {
      "cell_type": "markdown",
      "metadata": {
        "id": "U-vxHMa34k4U"
      },
      "source": [
        "## Task 0 - Datasets description, downloading and loading the data into a Pandas dataframe\n",
        "\n",
        "We have selected five publicly available benchmark datasets:\n",
        "\n",
        "1. **UCI adult income dataset.** This is a binary classification dataset in which we want to predict if a person earns more than $50k/year. It is a mid-size dataset (48K examples) with 14 features of mixed data types (categorical and continuous) with missing values.\n",
        "\n",
        "2. **Forest cover type dataset.** This is a large multi-class dataset with 580K examples and 54 features of mixed types. The objective is to predict the type of forest cover based on features such as soil type, elevation, and slope.\n",
        "\n",
        "3. **California housing prices**. This is a regression problem in which we want to predict housing prices based on numerical features, such as population, median income and location. It has 20K instances and nine features.\n",
        "\n",
        "4. **Fashion MNIST dataset**. It is an image classification dataset that is very similar to MNIST. Images are $28 \\times 28$ grayscale pixels. The objective is to classify ten different types of clothing. It has 60k training and 10K test instances.\n",
        "\n",
        "5. **Credit card fraud detection**. This is a binary classification dataset for detecting fraudulent transactions in credit card data. It is highly imbalanced, meaning that most transactions are normal, with some rare fraud cases. It has 284K instances and 30 numerical features.\n",
        "\n",
        "This table summarises the datasets.\n",
        "\n",
        "| Dataset                          | Problem Type        | Feature Type                          | Size        | Notable Challenge                                    |\n",
        "|-----------------------------------|---------------------|---------------------------------------|-------------|------------------------------------------------------|\n",
        "| **UCI Adult Income**              | Binary Classification| Categorical and Numerical             | 48,000      | Mix of feature types with missing values           |\n",
        "| **Forest Cover Type**             | Multi-class Classification | Categorical and Numerical       | 580,000     | Large dataset with mix of feature types      |\n",
        "| **California Housing Prices**     | Regression          | Numerical                              | 20,000      | Regression task      |\n",
        "| **Fashion MNIST**                 | Multi-class Classification (Image)| Image (grayscale)        | 60,000      | Weak features in the form of individual pixels brightness       |\n",
        "| **Credit Card Fraud Detection**   | Binary Classification (Imbalanced)| Numerical                | 284,000     | Highly imbalanced dataset        |\n",
        "\n",
        "Let's start by downloading the data from GitHub. The cell below will download and save the data into a local ``data`` folder. We will use the data later to train and assess our models."
      ]
    },
    {
      "cell_type": "code",
      "execution_count": 3,
      "metadata": {
        "colab": {
          "base_uri": "https://localhost:8080/"
        },
        "id": "K31rmHg54k4V",
        "outputId": "deb81b53-d2ef-4c90-c6c1-ec5884243741"
      },
      "outputs": [
        {
          "output_type": "stream",
          "name": "stdout",
          "text": [
            "Downloading adult.zip from https://raw.githubusercontent.com/UNSW-COMP9414/Assignment2/main/data/adult/adult.zip...\n",
            "Downloading covertype.zip from https://raw.githubusercontent.com/UNSW-COMP9414/Assignment2/main/data/covertype/covertype.zip...\n",
            "Downloading california_housing.zip from https://raw.githubusercontent.com/UNSW-COMP9414/Assignment2/main/data/california_housing/california_housing.zip...\n",
            "Downloading creditcard.zip from https://raw.githubusercontent.com/UNSW-COMP9414/Assignment2/main/data/creditcard/creditcard.zip...\n",
            "Downloading fashion_mnist.zip from https://raw.githubusercontent.com/UNSW-COMP9414/Assignment2/main/data/fashion_mnist/fashion_mnist.zip...\n"
          ]
        }
      ],
      "source": [
        "# Do not change the code in this cell.\n",
        "# This cell has no code to write. It downloads and unzips the datasets to your local disk.\n",
        "\n",
        "def download_and_extract(url, extract_to):\n",
        "    \"\"\"\n",
        "    Download a zip file from the URL and extract it to the specified directory.\n",
        "\n",
        "    Parameters:\n",
        "    - url (str): The URL of the zip file to download.\n",
        "    - extract_to (str): The directory where the zip file's contents will be extracted.\n",
        "\n",
        "    Returns:\n",
        "    None\n",
        "    \"\"\"\n",
        "    # Get the file, dataset names from the URL\n",
        "    zip_filename = url.split(\"/\")[-1]\n",
        "    dataset_name = zip_filename.split(\".\")[0]\n",
        "\n",
        "    # Each dataset will have its folder\n",
        "    extract_to = extract_to + \"/\" + dataset_name\n",
        "\n",
        "    # Download the zip file\n",
        "    print(f\"Downloading {zip_filename} from {url}...\")\n",
        "    response = requests.get(url)\n",
        "    with open(zip_filename, \"wb\") as file:\n",
        "        file.write(response.content)\n",
        "\n",
        "    # Create the extraction directory if it doesn't exist\n",
        "    if not os.path.exists(extract_to):\n",
        "        os.makedirs(extract_to)\n",
        "\n",
        "    # Unzip the file\n",
        "    with zipfile.ZipFile(zip_filename, 'r') as zip_ref:\n",
        "        zip_ref.extractall(extract_to)\n",
        "\n",
        "    # Remove the zip files\n",
        "    os.remove(zip_filename)\n",
        "\n",
        "# These are the URLs to the datasets. We have hosted the data on GitHub.\n",
        "urls = [\n",
        "    \"https://raw.githubusercontent.com/UNSW-COMP9414/Assignment2/main/data/adult/adult.zip\",\n",
        "    \"https://raw.githubusercontent.com/UNSW-COMP9414/Assignment2/main/data/covertype/covertype.zip\",\n",
        "    \"https://raw.githubusercontent.com/UNSW-COMP9414/Assignment2/main/data/california_housing/california_housing.zip\",\n",
        "    \"https://raw.githubusercontent.com/UNSW-COMP9414/Assignment2/main/data/creditcard/creditcard.zip\",\n",
        "    \"https://raw.githubusercontent.com/UNSW-COMP9414/Assignment2/main/data/fashion_mnist/fashion_mnist.zip\",\n",
        "]\n",
        "\n",
        "for i, url in enumerate(urls):\n",
        "    download_and_extract(url, \"data\")"
      ]
    },
    {
      "cell_type": "markdown",
      "metadata": {
        "id": "t0E4dlCa4k4V"
      },
      "source": [
        "### Loading data into pandas\n",
        "\n",
        "The datasets are well-diversified in size (number of examples and features), number of class labels, feature types (continuous and discrete), class distribution, and presence of missing data.\n",
        "\n",
        "All datasets have pre-defined training and testing splits. We will use the training set to train the models and choose hyperparameters. You may further split the training set into training and validation sets. The test set should only be used to assess and compare the models.\n",
        "\n",
        "The next cell has a supporting function that loads a specified dataset training and test sets into a pandas' dataframe."
      ]
    },
    {
      "cell_type": "code",
      "execution_count": 4,
      "metadata": {
        "colab": {
          "base_uri": "https://localhost:8080/"
        },
        "id": "FGilpkst4k4V",
        "outputId": "2502eb8d-b863-497a-a3fa-2f84dd53bf84"
      },
      "outputs": [
        {
          "output_type": "stream",
          "name": "stdout",
          "text": [
            "Loading data/adult...\n",
            "Train Features Shape: (32561, 14), Train Labels Shape: (32561, 1)\n",
            "Test Features Shape: (16281, 14), Test Labels Shape: (16281, 1)\n"
          ]
        }
      ],
      "source": [
        "# Do not change the code in this cell.\n",
        "# This cell has no code to write. It is a helper function that loads data from this into a Pandas dataframe.\n",
        "\n",
        "def load_train_test_data(path):\n",
        "    \"\"\"\n",
        "    Loads the train and test CSV files and returns them split into features (X) and labels (y).\n",
        "\n",
        "    Parameters:\n",
        "    - path (str): Path to the train and test CSV files.\n",
        "\n",
        "    Returns:\n",
        "    - X_train (DataFrame): Features of the training dataset.\n",
        "    - y_train (DataFrame): Labels of the training dataset.\n",
        "    - X_test (DataFrame): Features of the test dataset.\n",
        "    - y_test (DataFrame): Labels of the test dataset.\n",
        "    \"\"\"\n",
        "    # Load the training and testing data\n",
        "    train_df = pd.read_csv(f\"{path}/train.csv\")\n",
        "    test_df = pd.read_csv(f\"{path}/test.csv\")\n",
        "\n",
        "    # Select class label columns (those starting with 'Target')\n",
        "    y_train = train_df.filter(regex='^Target')\n",
        "    y_test = test_df.filter(regex='^Target')\n",
        "\n",
        "    # Select feature columns (all columns except the ones with 'Target' prefix)\n",
        "    X_train = train_df.drop(columns=y_train.columns)\n",
        "    X_test = test_df.drop(columns=y_test.columns)\n",
        "\n",
        "    return X_train, y_train, X_test, y_test\n",
        "\n",
        "# Example usage:\n",
        "path = \"data/adult\"\n",
        "print(f\"Loading {path}...\")\n",
        "X_train, y_train, X_test, y_test = load_train_test_data(path)\n",
        "\n",
        "print(f\"Train Features Shape: {X_train.shape}, Train Labels Shape: {y_train.shape}\")\n",
        "print(f\"Test Features Shape: {X_test.shape}, Test Labels Shape: {y_test.shape}\")"
      ]
    },
    {
      "cell_type": "markdown",
      "metadata": {
        "id": "nnKmB1e84k4W"
      },
      "source": [
        "## Task 1 [14 Marks] - Data preprocessing\n",
        "\n",
        "Your first task is to preprocess the datasets. Preprocessing usually involves data cleaning and transformation to improve data quality and prepare the data for the specific requirements of the learning approaches.\n",
        "\n",
        "For data preparation, we have the following tasks:\n",
        "1. **Missing imputation (all models)**: The adult dataset has missing values, and none of our learning algorithm implementations can directly handle missing data. Two missing data treatments are eliminating the rows with missing data or replacing the missing values with estimated ones. *Mean imputation*, as the name suggests, replaces missing values with the attribute mean, median (continuous features) or mode (discrete features). These statistics must only be estimated in the training set.\n",
        "2. **Feature encoding (all models)**: Neural networks, tree and random forest implementations available in the Scikit-Learn library do not handle categorical attributes directly. Therefore, these attributes need to be converted into numerical attributes. Although several encoding approaches exist, we will use one-hot encoding, as it is simple and recommended for categorical features with a small cardinality.\n",
        "3. **Class attribute encoding (neural networks only)**: Neural networks also need a one-hot encoding for the class attribute. This step is not necessary for the tree models.\n",
        "4. **Rescaling attribute values (neural networks only)**: The neural network's training benefits from rescaling the attribute values. In this task, we will convert each attribute to a number in the 0 to 1 range by using a simple linear rescaling: $x_s = \\frac{x-min_f}{max_f-min_f}$, where $x_s$ is the recalled $x$ value, $min_f$ is the minimum and $max_f$ the maximum values for feature $f$ in the training data.\n",
        "\n",
        "Tree models typically do not use class encoding and rescaling. The reason is twofold: first, this preprocessing does not help these models fit better parameters; second, tree models are known for their interpretability, and these manipulations create models that are not easier and often harder to understand. Feature encoding is also unnecessary for many tree model implementations, including the well-known [XGBoost](https://xgboost.readthedocs.io/en/stable/) and [LightGBM](https://lightgbm.readthedocs.io/en/stable/). Unfortunately, the Scikit-Learn implementation of tree models does not support categorical attributes.\n",
        "\n",
        "**Warning**: Leaking information from the test set to the training set, even if such information is aggregated data such as means, maximums, and minimums, is considered a serious methodological error. For instance, mean imputation should use the mean only in the training set. Similarly, the maximum and minimum for attribute rescaling should be calculated in the training set. Consequently, we may see values outside the range of 0-1 in the rescaled test set. This mimics the situation in which we find extreme values after the model deployment."
      ]
    },
    {
      "cell_type": "code",
      "source": [
        "#some global variable\n",
        "epochs = 30.0\n",
        "validation_split = 0.2\n",
        "batch_size = 32.0\n",
        "verbose = 1.0"
      ],
      "metadata": {
        "id": "WIMJtkg1shPE"
      },
      "execution_count": 16,
      "outputs": []
    },
    {
      "cell_type": "markdown",
      "metadata": {
        "id": "vXi9lzVx4k4W"
      },
      "source": [
        "### Task 1.1 [6 Marks] - Missing data removal or imputation\n",
        "\n",
        "Create a function ``missing_data(X_train, X_test)`` that imputes missing values in the dataframes `X_train` and `X_test`. When the function returns, both dataframes should have no missing values."
      ]
    },
    {
      "cell_type": "code",
      "execution_count": 6,
      "metadata": {
        "id": "3IIqbmnZ4k4W"
      },
      "outputs": [],
      "source": [
        "# This cell will be assessed. Replace the ... with your code\n",
        "\n",
        "def missing_data(X_train, X_test):\n",
        "    \"\"\"\n",
        "    Impute missing values in the train and test DataFrames using median/mode imputation.\n",
        "    Missing data statistics are only estimated on the training set and applied to the training and test sets.\n",
        "    Pro-tip: you can use Scikit-Learn's SimpleImputer.\n",
        "\n",
        "    Parameters:\n",
        "    - X_train (DataFrame): Training features.\n",
        "    - X_test (DataFrame): Test features.\n",
        "\n",
        "    Returns:\n",
        "    - X_train_filled (DataFrame): Training features with no missing values.\n",
        "    - X_test_filled (DataFrame): Test features with no missing values.\n",
        "    \"\"\"\n",
        "    ...  # TODO\n",
        "    num_imputer = SimpleImputer(strategy='median')\n",
        "    cat_imputer = SimpleImputer(strategy='most_frequent')\n",
        "\n",
        "    # separate columns\n",
        "    num_cols = X_train.select_dtypes(include=['number']).columns\n",
        "    cat_cols = X_train.select_dtypes(include=['object', 'category']).columns\n",
        "\n",
        "    MinMaxScaler().fit(X_train[num_cols])\n",
        "    X_train_num = pd.DataFrame(num_imputer.fit_transform(X_train[num_cols]), columns=num_cols).astype('float32')\n",
        "    X_test_num = pd.DataFrame(num_imputer.transform(X_test[num_cols]), columns=num_cols).astype('float32')\n",
        "\n",
        "    if len(cat_cols) > 0:\n",
        "        X_train_cat = pd.DataFrame(cat_imputer.fit_transform(X_train[cat_cols]), columns=cat_cols)\n",
        "        X_test_cat = pd.DataFrame(cat_imputer.transform(X_test[cat_cols]), columns=cat_cols)\n",
        "    else:\n",
        "        X_train_cat = pd.DataFrame(index=X_train.index)\n",
        "        X_test_cat = pd.DataFrame(index=X_test.index)\n",
        "\n",
        "    X_train_filled = pd.concat([X_train_num, X_train_cat], axis=1)\n",
        "    X_test_filled = pd.concat([X_test_num, X_test_cat], axis=1)\n",
        "\n",
        "\n",
        "    return X_train_filled, X_test_filled"
      ]
    },
    {
      "cell_type": "markdown",
      "metadata": {
        "id": "I11iWUVT4k4W"
      },
      "source": [
        "### Task 1.2 [4 Marks] - Feature and class encoding\n",
        "\n",
        "Let's implement a function ``encoding(X_train, X_test)`` that creates one-hot encodings for all categorical attributes. All categorical attributes are encoded as one-hot numeric features when the function returns."
      ]
    },
    {
      "cell_type": "code",
      "execution_count": 7,
      "metadata": {
        "id": "KorxHPTh4k4W"
      },
      "outputs": [],
      "source": [
        "# This cell will be assessed. Replace the ... with your code\n",
        "\n",
        "def encoding(X_train, X_test):\n",
        "    \"\"\"\n",
        "    Encodes categorical features and class labels into one-hot numeric features.\n",
        "    Ensure that you have a consistent encoding across training and test sets.\n",
        "    Pro-tip: use Panda's get_dummies.\n",
        "\n",
        "    Parameters:\n",
        "    - X_train (DataFrame): Training features.\n",
        "    - X_test (DataFrame): Test features.\n",
        "\n",
        "    Returns:\n",
        "    - X_train_encoded (DataFrame): One-hot encoded training features.\n",
        "    - X_test_encoded (DataFrame): One-hot encoded test features.\n",
        "    \"\"\"\n",
        "    ...  # TODO\n",
        "    cat_cols = X_train.select_dtypes(include=['object', 'category']).columns\n",
        "\n",
        "    # combine data for consistent encoding  (one-hot encoding//get_dummies)\n",
        "    combined = pd.concat([X_train, X_test], keys=['train', 'test'])\n",
        "    combined_encoded = pd.get_dummies(combined, columns=cat_cols)\n",
        "\n",
        "    # separate data back into train_set and test_set\n",
        "    X_train_encoded = combined_encoded.xs('train')\n",
        "    X_test_encoded = combined_encoded.xs('test')\n",
        "\n",
        "    return X_train_encoded, X_test_encoded"
      ]
    },
    {
      "cell_type": "markdown",
      "metadata": {
        "id": "wskhb0i54k4W"
      },
      "source": [
        "#### Task 1.3 [4 Marks] - Rescaling attributes\n",
        "\n",
        "To conclude the pre-processing task, let's create a function ``rescale(X_train, X_test)`` that rescales all continuous attributes so that each attribute is between 0 and 1. When the function returns, all numerical attributes should be rescaled."
      ]
    },
    {
      "cell_type": "code",
      "execution_count": 8,
      "metadata": {
        "id": "BnJetYW64k4X"
      },
      "outputs": [],
      "source": [
        "# This cell will be assessed. Replace the ... with your code\n",
        "\n",
        "def rescale(X_train, X_test):\n",
        "    \"\"\"\n",
        "    Rescales all continuous attributes in the train and test datasets to be in the range [0, 1].\n",
        "    Rescaling statistics should only be estimated on the training set and applied to the training and test sets.\n",
        "    Pro-tip: use MinMaxScaler.\n",
        "\n",
        "    Parameters:\n",
        "    - X_train (DataFrame): Training features.\n",
        "    - X_test (DataFrame): Test features.\n",
        "\n",
        "    Returns:\n",
        "    - X_train_rescaled (DataFrame): Rescaled training features.\n",
        "    - X_test_rescaled (DataFrame): Rescaled test features.\n",
        "    \"\"\"\n",
        "    ... # TODO\n",
        "    num_cols = X_train.select_dtypes(include=['number']).columns\n",
        "\n",
        "    # apply scaler to training data\n",
        "    X_train_rescaled = X_train.copy(deep=True)\n",
        "    X_test_rescaled = X_test.copy(deep=True)\n",
        "\n",
        "    # MinMaxScaler().fit(X_train[num_cols])\n",
        "    scaler = MinMaxScaler()\n",
        "    scaler.fit(X_train[num_cols])\n",
        "    X_train_rescaled[num_cols] = scaler.fit_transform(X_train[num_cols]).astype('float32')\n",
        "    X_test_rescaled[num_cols] = scaler.transform(X_test[num_cols]).astype('float32')\n",
        "\n",
        "    return X_train_rescaled, X_test_rescaled"
      ]
    },
    {
      "cell_type": "markdown",
      "metadata": {
        "id": "p3Wt3pAu4k4X"
      },
      "source": [
        "### Preprocessing the datasets\n",
        "\n",
        "In the cell below, we will call your functions to preprocess the datasets. We will create two versions of each dataset: the first is suitable for the tree models and will have no missing values and encoded attributes. The second will have no missing values, encoded categorical and class features, and numeric features rescaled. We will save these datasets for use later. The datasets pre-processed for trees will be saved in a ``tree`` folder. The datasets for neural networks will be saved in a ``nn`` folder."
      ]
    },
    {
      "cell_type": "code",
      "execution_count": 9,
      "metadata": {
        "colab": {
          "base_uri": "https://localhost:8080/"
        },
        "id": "AgodWw1r4k4X",
        "outputId": "1da8dd43-e8f3-4e82-ed22-a93c0431ee0c"
      },
      "outputs": [
        {
          "output_type": "stream",
          "name": "stdout",
          "text": [
            "Processing dataset: adult\n",
            "Processing dataset: covertype\n",
            "Processing dataset: california_housing\n",
            "Processing dataset: fashion_mnist\n",
            "Processing dataset: creditcard\n"
          ]
        }
      ],
      "source": [
        "# Do not change the code in this cell.\n",
        "# This cell has no code to write. It calls your pre-processing functions and saves the preprocessed datasets on disk.\n",
        "\n",
        "datasets = [\"adult\", \"covertype\", \"california_housing\", \"fashion_mnist\", \"creditcard\"]\n",
        "\n",
        "for dataset in datasets:\n",
        "    print(f\"Processing dataset: {dataset}\")\n",
        "\n",
        "    # Load the train and test data\n",
        "    X_train, y_train, X_test, y_test = load_train_test_data(\"data/\" + dataset)\n",
        "\n",
        "    # Preprocessing for tree-based models\n",
        "    tree_path = f\"data/{dataset}/tree\"\n",
        "    if not os.path.exists(tree_path):\n",
        "        os.makedirs(tree_path)\n",
        "\n",
        "    # Handle missing data\n",
        "    X_train, X_test = missing_data(X_train, X_test)\n",
        "\n",
        "    # Apply encoding features\n",
        "    X_train_encoded, X_test_encoded = encoding(X_train, X_test)\n",
        "\n",
        "    # Concatenate X and y for train and test data.\n",
        "    # For decision trees, we do not encode the class attribute\n",
        "    train_tree = pd.concat([X_train_encoded, y_train.reset_index(drop=True)], axis=1)\n",
        "    test_tree = pd.concat([X_test_encoded, y_test.reset_index(drop=True)], axis=1)\n",
        "\n",
        "    # Save tree-preprocessed datasets\n",
        "    train_tree.to_csv(f\"{tree_path}/train.csv\", index=False)\n",
        "    test_tree.to_csv(f\"{tree_path}/test.csv\", index=False)\n",
        "\n",
        "    # Preprocessing for neural networks\n",
        "    nn_path = f\"data/{dataset}/nn\"\n",
        "    if not os.path.exists(nn_path):\n",
        "        os.makedirs(nn_path)\n",
        "\n",
        "    # Apply encoding class attribute. For a regression dataset, the next line should do nothing\n",
        "    y_train_encoded, y_test_encoded = encoding(y_train, y_test)\n",
        "\n",
        "    # Rescale the features\n",
        "    X_train_rescaled, X_test_rescaled = rescale(X_train_encoded, X_test_encoded)\n",
        "\n",
        "    # Concatenate X and y for train and test data\n",
        "    train_nn = pd.concat([X_train_rescaled, y_train_encoded.reset_index(drop=True)], axis=1)\n",
        "    test_nn = pd.concat([X_test_rescaled, y_test_encoded.reset_index(drop=True)], axis=1)\n",
        "\n",
        "    # Save nn-preprocessed datasets\n",
        "    train_nn.to_csv(f\"{nn_path}/train.csv\", index=False)\n",
        "    test_nn.to_csv(f\"{nn_path}/test.csv\", index=False)"
      ]
    },
    {
      "cell_type": "markdown",
      "metadata": {
        "id": "ZyGkAQWT4k4X"
      },
      "source": [
        "## Task 2 - [16 Marks] Model Training\n",
        "\n",
        "We have the data ready, and in this task, we will train some initial models for each dataset. We will refine the models later, but for now, we will create a swallow model for the neural network. The decision tree and the random forest models will use Scikit-Learn's default hyperparameter values for these models.\n",
        "\n",
        "The neural network will have three layers: the input layer ($i$), one hidden layer ($h$) and one output layer ($o$). We will use a simple rule-of-thumb for the number of units in the hidden layer: $D_h = \\sqrt{D_i * D_o}$. The other hyperparameters are similar to the ones used in the Week 07 tutorial."
      ]
    },
    {
      "cell_type": "markdown",
      "metadata": {
        "id": "L3xtVCjr4k4X"
      },
      "source": [
        "### Task 2.1 [4 Marks] - Shallow neural net for classification\n",
        "\n",
        "Create a function ``train_shallow_net_class(X_train, y_train)`` that trains a shallow neural net for classification using the training data ``X_train`` and labels ``y_train``. Use the following hyperparameters:\n",
        "1. A single hidden layer with $D_h = \\text{round}(\\sqrt{D_i * D_o})$ units.\n",
        "2. ReLU activation in the hidden layer and softmax on the output layer.\n",
        "3. Categorical cross-entropy as loss function.\n",
        "4. Train for 30 epochs.\n",
        "5. Batch size of 32 instances.\n",
        "6. Validation split of 20% of the training data.\n",
        "7. Adam optimiser."
      ]
    },
    {
      "cell_type": "code",
      "execution_count": 19,
      "metadata": {
        "id": "fcJNBqmr4k4X"
      },
      "outputs": [],
      "source": [
        "# This cell will be assessed. Replace the ... with your code\n",
        "\n",
        "def train_shallow_net_class(X_train, y_train):\n",
        "    \"\"\"\n",
        "    Trains a shallow neural net for classification problems with one hidden layer using the training data.\n",
        "\n",
        "    Parameters:\n",
        "    - X_train (DataFrame): Training features.\n",
        "    - y_train (DataFrame): Training labels (one-hot encoded for classification).\n",
        "    - Dh (int): Number of units in the hidden layer.\n",
        "\n",
        "    Returns:\n",
        "    - model: Trained Keras neural network model.\n",
        "    \"\"\"\n",
        "    ... # TODO\n",
        "    D_i = X_train.shape[1]\n",
        "    D_o = y_train.shape[1]\n",
        "    D_h = round((D_i * D_o) ** 0.5)\n",
        "\n",
        "    model = Sequential([Input(shape=(D_i,)), Dense(D_h, activation='relu'), Dense(D_o, activation='softmax')])\n",
        "\n",
        "    model.compile(optimizer=Adam(),\n",
        "            loss='categorical_crossentropy',\n",
        "            metrics=['accuracy'])\n",
        "\n",
        "    model.fit(X_train, y_train, epochs = 30, validation_split = 0.2, batch_size = 32)\n",
        "\n",
        "    return model"
      ]
    },
    {
      "cell_type": "markdown",
      "metadata": {
        "id": "prgI92hu4k4X"
      },
      "source": [
        "The next cell will call your function to train a shallow model for each classification dataset, compute the training time, and test error."
      ]
    },
    {
      "cell_type": "code",
      "execution_count": 20,
      "metadata": {
        "colab": {
          "base_uri": "https://localhost:8080/"
        },
        "id": "o0sOQkax4k4X",
        "outputId": "b3c5e4bf-c4e9-4a4b-eec2-affec2d200ec"
      },
      "outputs": [
        {
          "output_type": "stream",
          "name": "stdout",
          "text": [
            "Processing dataset: adult\n",
            "Epoch 1/30\n",
            "\u001b[1m814/814\u001b[0m \u001b[32m━━━━━━━━━━━━━━━━━━━━\u001b[0m\u001b[37m\u001b[0m \u001b[1m4s\u001b[0m 3ms/step - accuracy: 0.7796 - loss: 0.4548 - val_accuracy: 0.8371 - val_loss: 0.3519\n",
            "Epoch 2/30\n",
            "\u001b[1m814/814\u001b[0m \u001b[32m━━━━━━━━━━━━━━━━━━━━\u001b[0m\u001b[37m\u001b[0m \u001b[1m2s\u001b[0m 2ms/step - accuracy: 0.8334 - loss: 0.3529 - val_accuracy: 0.8437 - val_loss: 0.3361\n",
            "Epoch 3/30\n",
            "\u001b[1m814/814\u001b[0m \u001b[32m━━━━━━━━━━━━━━━━━━━━\u001b[0m\u001b[37m\u001b[0m \u001b[1m3s\u001b[0m 2ms/step - accuracy: 0.8401 - loss: 0.3376 - val_accuracy: 0.8478 - val_loss: 0.3285\n",
            "Epoch 4/30\n",
            "\u001b[1m814/814\u001b[0m \u001b[32m━━━━━━━━━━━━━━━━━━━━\u001b[0m\u001b[37m\u001b[0m \u001b[1m2s\u001b[0m 2ms/step - accuracy: 0.8487 - loss: 0.3242 - val_accuracy: 0.8517 - val_loss: 0.3240\n",
            "Epoch 5/30\n",
            "\u001b[1m814/814\u001b[0m \u001b[32m━━━━━━━━━━━━━━━━━━━━\u001b[0m\u001b[37m\u001b[0m \u001b[1m4s\u001b[0m 3ms/step - accuracy: 0.8469 - loss: 0.3259 - val_accuracy: 0.8520 - val_loss: 0.3219\n",
            "Epoch 6/30\n",
            "\u001b[1m814/814\u001b[0m \u001b[32m━━━━━━━━━━━━━━━━━━━━\u001b[0m\u001b[37m\u001b[0m \u001b[1m2s\u001b[0m 2ms/step - accuracy: 0.8462 - loss: 0.3266 - val_accuracy: 0.8492 - val_loss: 0.3219\n",
            "Epoch 7/30\n",
            "\u001b[1m814/814\u001b[0m \u001b[32m━━━━━━━━━━━━━━━━━━━━\u001b[0m\u001b[37m\u001b[0m \u001b[1m1s\u001b[0m 2ms/step - accuracy: 0.8494 - loss: 0.3204 - val_accuracy: 0.8460 - val_loss: 0.3244\n",
            "Epoch 8/30\n",
            "\u001b[1m814/814\u001b[0m \u001b[32m━━━━━━━━━━━━━━━━━━━━\u001b[0m\u001b[37m\u001b[0m \u001b[1m3s\u001b[0m 2ms/step - accuracy: 0.8478 - loss: 0.3162 - val_accuracy: 0.8521 - val_loss: 0.3172\n",
            "Epoch 9/30\n",
            "\u001b[1m814/814\u001b[0m \u001b[32m━━━━━━━━━━━━━━━━━━━━\u001b[0m\u001b[37m\u001b[0m \u001b[1m2s\u001b[0m 2ms/step - accuracy: 0.8532 - loss: 0.3187 - val_accuracy: 0.8528 - val_loss: 0.3173\n",
            "Epoch 10/30\n",
            "\u001b[1m814/814\u001b[0m \u001b[32m━━━━━━━━━━━━━━━━━━━━\u001b[0m\u001b[37m\u001b[0m \u001b[1m1s\u001b[0m 2ms/step - accuracy: 0.8508 - loss: 0.3167 - val_accuracy: 0.8512 - val_loss: 0.3180\n",
            "Epoch 11/30\n",
            "\u001b[1m814/814\u001b[0m \u001b[32m━━━━━━━━━━━━━━━━━━━━\u001b[0m\u001b[37m\u001b[0m \u001b[1m3s\u001b[0m 3ms/step - accuracy: 0.8530 - loss: 0.3085 - val_accuracy: 0.8477 - val_loss: 0.3169\n",
            "Epoch 12/30\n",
            "\u001b[1m814/814\u001b[0m \u001b[32m━━━━━━━━━━━━━━━━━━━━\u001b[0m\u001b[37m\u001b[0m \u001b[1m3s\u001b[0m 3ms/step - accuracy: 0.8514 - loss: 0.3196 - val_accuracy: 0.8505 - val_loss: 0.3163\n",
            "Epoch 13/30\n",
            "\u001b[1m814/814\u001b[0m \u001b[32m━━━━━━━━━━━━━━━━━━━━\u001b[0m\u001b[37m\u001b[0m \u001b[1m2s\u001b[0m 2ms/step - accuracy: 0.8513 - loss: 0.3135 - val_accuracy: 0.8524 - val_loss: 0.3172\n",
            "Epoch 14/30\n",
            "\u001b[1m814/814\u001b[0m \u001b[32m━━━━━━━━━━━━━━━━━━━━\u001b[0m\u001b[37m\u001b[0m \u001b[1m2s\u001b[0m 2ms/step - accuracy: 0.8582 - loss: 0.3058 - val_accuracy: 0.8477 - val_loss: 0.3173\n",
            "Epoch 15/30\n",
            "\u001b[1m814/814\u001b[0m \u001b[32m━━━━━━━━━━━━━━━━━━━━\u001b[0m\u001b[37m\u001b[0m \u001b[1m2s\u001b[0m 2ms/step - accuracy: 0.8511 - loss: 0.3148 - val_accuracy: 0.8497 - val_loss: 0.3183\n",
            "Epoch 16/30\n",
            "\u001b[1m814/814\u001b[0m \u001b[32m━━━━━━━━━━━━━━━━━━━━\u001b[0m\u001b[37m\u001b[0m \u001b[1m3s\u001b[0m 2ms/step - accuracy: 0.8561 - loss: 0.3121 - val_accuracy: 0.8529 - val_loss: 0.3188\n",
            "Epoch 17/30\n",
            "\u001b[1m814/814\u001b[0m \u001b[32m━━━━━━━━━━━━━━━━━━━━\u001b[0m\u001b[37m\u001b[0m \u001b[1m2s\u001b[0m 2ms/step - accuracy: 0.8582 - loss: 0.3075 - val_accuracy: 0.8500 - val_loss: 0.3186\n",
            "Epoch 18/30\n",
            "\u001b[1m814/814\u001b[0m \u001b[32m━━━━━━━━━━━━━━━━━━━━\u001b[0m\u001b[37m\u001b[0m \u001b[1m3s\u001b[0m 3ms/step - accuracy: 0.8568 - loss: 0.3085 - val_accuracy: 0.8505 - val_loss: 0.3163\n",
            "Epoch 19/30\n",
            "\u001b[1m814/814\u001b[0m \u001b[32m━━━━━━━━━━━━━━━━━━━━\u001b[0m\u001b[37m\u001b[0m \u001b[1m1s\u001b[0m 2ms/step - accuracy: 0.8576 - loss: 0.3064 - val_accuracy: 0.8500 - val_loss: 0.3167\n",
            "Epoch 20/30\n",
            "\u001b[1m814/814\u001b[0m \u001b[32m━━━━━━━━━━━━━━━━━━━━\u001b[0m\u001b[37m\u001b[0m \u001b[1m2s\u001b[0m 2ms/step - accuracy: 0.8544 - loss: 0.3101 - val_accuracy: 0.8498 - val_loss: 0.3173\n",
            "Epoch 21/30\n",
            "\u001b[1m814/814\u001b[0m \u001b[32m━━━━━━━━━━━━━━━━━━━━\u001b[0m\u001b[37m\u001b[0m \u001b[1m3s\u001b[0m 2ms/step - accuracy: 0.8586 - loss: 0.3057 - val_accuracy: 0.8518 - val_loss: 0.3192\n",
            "Epoch 22/30\n",
            "\u001b[1m814/814\u001b[0m \u001b[32m━━━━━━━━━━━━━━━━━━━━\u001b[0m\u001b[37m\u001b[0m \u001b[1m3s\u001b[0m 2ms/step - accuracy: 0.8581 - loss: 0.3059 - val_accuracy: 0.8505 - val_loss: 0.3165\n",
            "Epoch 23/30\n",
            "\u001b[1m814/814\u001b[0m \u001b[32m━━━━━━━━━━━━━━━━━━━━\u001b[0m\u001b[37m\u001b[0m \u001b[1m4s\u001b[0m 3ms/step - accuracy: 0.8578 - loss: 0.3088 - val_accuracy: 0.8477 - val_loss: 0.3180\n",
            "Epoch 24/30\n",
            "\u001b[1m814/814\u001b[0m \u001b[32m━━━━━━━━━━━━━━━━━━━━\u001b[0m\u001b[37m\u001b[0m \u001b[1m1s\u001b[0m 2ms/step - accuracy: 0.8585 - loss: 0.3046 - val_accuracy: 0.8500 - val_loss: 0.3171\n",
            "Epoch 25/30\n",
            "\u001b[1m814/814\u001b[0m \u001b[32m━━━━━━━━━━━━━━━━━━━━\u001b[0m\u001b[37m\u001b[0m \u001b[1m3s\u001b[0m 2ms/step - accuracy: 0.8545 - loss: 0.3091 - val_accuracy: 0.8518 - val_loss: 0.3168\n",
            "Epoch 26/30\n",
            "\u001b[1m814/814\u001b[0m \u001b[32m━━━━━━━━━━━━━━━━━━━━\u001b[0m\u001b[37m\u001b[0m \u001b[1m1s\u001b[0m 2ms/step - accuracy: 0.8570 - loss: 0.3088 - val_accuracy: 0.8494 - val_loss: 0.3177\n",
            "Epoch 27/30\n",
            "\u001b[1m814/814\u001b[0m \u001b[32m━━━━━━━━━━━━━━━━━━━━\u001b[0m\u001b[37m\u001b[0m \u001b[1m3s\u001b[0m 2ms/step - accuracy: 0.8600 - loss: 0.3001 - val_accuracy: 0.8501 - val_loss: 0.3172\n",
            "Epoch 28/30\n",
            "\u001b[1m814/814\u001b[0m \u001b[32m━━━━━━━━━━━━━━━━━━━━\u001b[0m\u001b[37m\u001b[0m \u001b[1m3s\u001b[0m 2ms/step - accuracy: 0.8632 - loss: 0.2948 - val_accuracy: 0.8518 - val_loss: 0.3170\n",
            "Epoch 29/30\n",
            "\u001b[1m814/814\u001b[0m \u001b[32m━━━━━━━━━━━━━━━━━━━━\u001b[0m\u001b[37m\u001b[0m \u001b[1m3s\u001b[0m 3ms/step - accuracy: 0.8590 - loss: 0.3012 - val_accuracy: 0.8498 - val_loss: 0.3166\n",
            "Epoch 30/30\n",
            "\u001b[1m814/814\u001b[0m \u001b[32m━━━━━━━━━━━━━━━━━━━━\u001b[0m\u001b[37m\u001b[0m \u001b[1m1s\u001b[0m 2ms/step - accuracy: 0.8604 - loss: 0.3067 - val_accuracy: 0.8503 - val_loss: 0.3171\n",
            "\u001b[1m509/509\u001b[0m \u001b[32m━━━━━━━━━━━━━━━━━━━━\u001b[0m\u001b[37m\u001b[0m \u001b[1m1s\u001b[0m 1ms/step - accuracy: 0.8499 - loss: 0.3232\n",
            "Test error rate: 0.1487\n",
            "Runtime to train the model: 70.60063576698303 seconds\n",
            "Processing dataset: covertype\n",
            "Epoch 1/30\n",
            "\u001b[1m9684/9684\u001b[0m \u001b[32m━━━━━━━━━━━━━━━━━━━━\u001b[0m\u001b[37m\u001b[0m \u001b[1m22s\u001b[0m 2ms/step - accuracy: 0.6327 - loss: 0.8392 - val_accuracy: 0.6488 - val_loss: 0.7379\n",
            "Epoch 2/30\n",
            "\u001b[1m9684/9684\u001b[0m \u001b[32m━━━━━━━━━━━━━━━━━━━━\u001b[0m\u001b[37m\u001b[0m \u001b[1m39s\u001b[0m 2ms/step - accuracy: 0.6586 - loss: 0.7279 - val_accuracy: 0.6610 - val_loss: 0.7236\n",
            "Epoch 3/30\n",
            "\u001b[1m9684/9684\u001b[0m \u001b[32m━━━━━━━━━━━━━━━━━━━━\u001b[0m\u001b[37m\u001b[0m \u001b[1m18s\u001b[0m 2ms/step - accuracy: 0.6632 - loss: 0.7203 - val_accuracy: 0.6642 - val_loss: 0.7132\n",
            "Epoch 4/30\n",
            "\u001b[1m9684/9684\u001b[0m \u001b[32m━━━━━━━━━━━━━━━━━━━━\u001b[0m\u001b[37m\u001b[0m \u001b[1m18s\u001b[0m 2ms/step - accuracy: 0.6676 - loss: 0.7140 - val_accuracy: 0.6725 - val_loss: 0.7054\n",
            "Epoch 5/30\n",
            "\u001b[1m9684/9684\u001b[0m \u001b[32m━━━━━━━━━━━━━━━━━━━━\u001b[0m\u001b[37m\u001b[0m \u001b[1m22s\u001b[0m 2ms/step - accuracy: 0.6733 - loss: 0.7071 - val_accuracy: 0.6739 - val_loss: 0.7027\n",
            "Epoch 6/30\n",
            "\u001b[1m9684/9684\u001b[0m \u001b[32m━━━━━━━━━━━━━━━━━━━━\u001b[0m\u001b[37m\u001b[0m \u001b[1m20s\u001b[0m 2ms/step - accuracy: 0.6768 - loss: 0.6999 - val_accuracy: 0.6778 - val_loss: 0.6957\n",
            "Epoch 7/30\n",
            "\u001b[1m9684/9684\u001b[0m \u001b[32m━━━━━━━━━━━━━━━━━━━━\u001b[0m\u001b[37m\u001b[0m \u001b[1m22s\u001b[0m 2ms/step - accuracy: 0.6780 - loss: 0.6973 - val_accuracy: 0.6785 - val_loss: 0.6938\n",
            "Epoch 8/30\n",
            "\u001b[1m9684/9684\u001b[0m \u001b[32m━━━━━━━━━━━━━━━━━━━━\u001b[0m\u001b[37m\u001b[0m \u001b[1m40s\u001b[0m 2ms/step - accuracy: 0.6801 - loss: 0.6914 - val_accuracy: 0.6803 - val_loss: 0.6902\n",
            "Epoch 9/30\n",
            "\u001b[1m9684/9684\u001b[0m \u001b[32m━━━━━━━━━━━━━━━━━━━━\u001b[0m\u001b[37m\u001b[0m \u001b[1m40s\u001b[0m 2ms/step - accuracy: 0.6806 - loss: 0.6910 - val_accuracy: 0.6768 - val_loss: 0.6916\n",
            "Epoch 10/30\n",
            "\u001b[1m9684/9684\u001b[0m \u001b[32m━━━━━━━━━━━━━━━━━━━━\u001b[0m\u001b[37m\u001b[0m \u001b[1m19s\u001b[0m 2ms/step - accuracy: 0.6829 - loss: 0.6885 - val_accuracy: 0.6815 - val_loss: 0.6855\n",
            "Epoch 11/30\n",
            "\u001b[1m9684/9684\u001b[0m \u001b[32m━━━━━━━━━━━━━━━━━━━━\u001b[0m\u001b[37m\u001b[0m \u001b[1m22s\u001b[0m 2ms/step - accuracy: 0.6851 - loss: 0.6835 - val_accuracy: 0.6840 - val_loss: 0.6825\n",
            "Epoch 12/30\n",
            "\u001b[1m9684/9684\u001b[0m \u001b[32m━━━━━━━━━━━━━━━━━━━━\u001b[0m\u001b[37m\u001b[0m \u001b[1m18s\u001b[0m 2ms/step - accuracy: 0.6861 - loss: 0.6815 - val_accuracy: 0.6862 - val_loss: 0.6804\n",
            "Epoch 13/30\n",
            "\u001b[1m9684/9684\u001b[0m \u001b[32m━━━━━━━━━━━━━━━━━━━━\u001b[0m\u001b[37m\u001b[0m \u001b[1m21s\u001b[0m 2ms/step - accuracy: 0.6859 - loss: 0.6799 - val_accuracy: 0.6841 - val_loss: 0.6812\n",
            "Epoch 14/30\n",
            "\u001b[1m9684/9684\u001b[0m \u001b[32m━━━━━━━━━━━━━━━━━━━━\u001b[0m\u001b[37m\u001b[0m \u001b[1m20s\u001b[0m 2ms/step - accuracy: 0.6888 - loss: 0.6751 - val_accuracy: 0.6853 - val_loss: 0.6771\n",
            "Epoch 15/30\n",
            "\u001b[1m9684/9684\u001b[0m \u001b[32m━━━━━━━━━━━━━━━━━━━━\u001b[0m\u001b[37m\u001b[0m \u001b[1m18s\u001b[0m 2ms/step - accuracy: 0.6880 - loss: 0.6761 - val_accuracy: 0.6863 - val_loss: 0.6751\n",
            "Epoch 16/30\n",
            "\u001b[1m9684/9684\u001b[0m \u001b[32m━━━━━━━━━━━━━━━━━━━━\u001b[0m\u001b[37m\u001b[0m \u001b[1m24s\u001b[0m 3ms/step - accuracy: 0.6889 - loss: 0.6751 - val_accuracy: 0.6883 - val_loss: 0.6725\n",
            "Epoch 17/30\n",
            "\u001b[1m9684/9684\u001b[0m \u001b[32m━━━━━━━━━━━━━━━━━━━━\u001b[0m\u001b[37m\u001b[0m \u001b[1m38s\u001b[0m 2ms/step - accuracy: 0.6899 - loss: 0.6735 - val_accuracy: 0.6825 - val_loss: 0.6805\n",
            "Epoch 18/30\n",
            "\u001b[1m9684/9684\u001b[0m \u001b[32m━━━━━━━━━━━━━━━━━━━━\u001b[0m\u001b[37m\u001b[0m \u001b[1m21s\u001b[0m 2ms/step - accuracy: 0.6899 - loss: 0.6719 - val_accuracy: 0.6866 - val_loss: 0.6741\n",
            "Epoch 19/30\n",
            "\u001b[1m9684/9684\u001b[0m \u001b[32m━━━━━━━━━━━━━━━━━━━━\u001b[0m\u001b[37m\u001b[0m \u001b[1m19s\u001b[0m 2ms/step - accuracy: 0.6914 - loss: 0.6696 - val_accuracy: 0.6915 - val_loss: 0.6688\n",
            "Epoch 20/30\n",
            "\u001b[1m9684/9684\u001b[0m \u001b[32m━━━━━━━━━━━━━━━━━━━━\u001b[0m\u001b[37m\u001b[0m \u001b[1m21s\u001b[0m 2ms/step - accuracy: 0.6895 - loss: 0.6703 - val_accuracy: 0.6914 - val_loss: 0.6672\n",
            "Epoch 21/30\n",
            "\u001b[1m9684/9684\u001b[0m \u001b[32m━━━━━━━━━━━━━━━━━━━━\u001b[0m\u001b[37m\u001b[0m \u001b[1m21s\u001b[0m 2ms/step - accuracy: 0.6911 - loss: 0.6692 - val_accuracy: 0.6920 - val_loss: 0.6676\n",
            "Epoch 22/30\n",
            "\u001b[1m9684/9684\u001b[0m \u001b[32m━━━━━━━━━━━━━━━━━━━━\u001b[0m\u001b[37m\u001b[0m \u001b[1m20s\u001b[0m 2ms/step - accuracy: 0.6906 - loss: 0.6695 - val_accuracy: 0.6930 - val_loss: 0.6651\n",
            "Epoch 23/30\n",
            "\u001b[1m9684/9684\u001b[0m \u001b[32m━━━━━━━━━━━━━━━━━━━━\u001b[0m\u001b[37m\u001b[0m \u001b[1m19s\u001b[0m 2ms/step - accuracy: 0.6939 - loss: 0.6674 - val_accuracy: 0.6924 - val_loss: 0.6647\n",
            "Epoch 24/30\n",
            "\u001b[1m9684/9684\u001b[0m \u001b[32m━━━━━━━━━━━━━━━━━━━━\u001b[0m\u001b[37m\u001b[0m \u001b[1m23s\u001b[0m 2ms/step - accuracy: 0.6941 - loss: 0.6654 - val_accuracy: 0.6895 - val_loss: 0.6701\n",
            "Epoch 25/30\n",
            "\u001b[1m9684/9684\u001b[0m \u001b[32m━━━━━━━━━━━━━━━━━━━━\u001b[0m\u001b[37m\u001b[0m \u001b[1m40s\u001b[0m 2ms/step - accuracy: 0.6946 - loss: 0.6649 - val_accuracy: 0.6936 - val_loss: 0.6654\n",
            "Epoch 26/30\n",
            "\u001b[1m9684/9684\u001b[0m \u001b[32m━━━━━━━━━━━━━━━━━━━━\u001b[0m\u001b[37m\u001b[0m \u001b[1m40s\u001b[0m 2ms/step - accuracy: 0.6948 - loss: 0.6632 - val_accuracy: 0.6945 - val_loss: 0.6615\n",
            "Epoch 27/30\n",
            "\u001b[1m9684/9684\u001b[0m \u001b[32m━━━━━━━━━━━━━━━━━━━━\u001b[0m\u001b[37m\u001b[0m \u001b[1m19s\u001b[0m 2ms/step - accuracy: 0.6965 - loss: 0.6614 - val_accuracy: 0.6903 - val_loss: 0.6638\n",
            "Epoch 28/30\n",
            "\u001b[1m9684/9684\u001b[0m \u001b[32m━━━━━━━━━━━━━━━━━━━━\u001b[0m\u001b[37m\u001b[0m \u001b[1m22s\u001b[0m 2ms/step - accuracy: 0.6978 - loss: 0.6598 - val_accuracy: 0.6908 - val_loss: 0.6639\n",
            "Epoch 29/30\n",
            "\u001b[1m9684/9684\u001b[0m \u001b[32m━━━━━━━━━━━━━━━━━━━━\u001b[0m\u001b[37m\u001b[0m \u001b[1m40s\u001b[0m 2ms/step - accuracy: 0.6960 - loss: 0.6617 - val_accuracy: 0.6942 - val_loss: 0.6632\n",
            "Epoch 30/30\n",
            "\u001b[1m9684/9684\u001b[0m \u001b[32m━━━━━━━━━━━━━━━━━━━━\u001b[0m\u001b[37m\u001b[0m \u001b[1m19s\u001b[0m 2ms/step - accuracy: 0.6957 - loss: 0.6630 - val_accuracy: 0.6913 - val_loss: 0.6611\n",
            "\u001b[1m6053/6053\u001b[0m \u001b[32m━━━━━━━━━━━━━━━━━━━━\u001b[0m\u001b[37m\u001b[0m \u001b[1m10s\u001b[0m 2ms/step - accuracy: 0.6938 - loss: 0.6662\n",
            "Test error rate: 0.3069\n",
            "Runtime to train the model: 746.0728416442871 seconds\n",
            "Processing dataset: fashion_mnist\n",
            "Epoch 1/30\n",
            "\u001b[1m1500/1500\u001b[0m \u001b[32m━━━━━━━━━━━━━━━━━━━━\u001b[0m\u001b[37m\u001b[0m \u001b[1m6s\u001b[0m 3ms/step - accuracy: 0.7657 - loss: 0.6707 - val_accuracy: 0.8339 - val_loss: 0.4554\n",
            "Epoch 2/30\n",
            "\u001b[1m1500/1500\u001b[0m \u001b[32m━━━━━━━━━━━━━━━━━━━━\u001b[0m\u001b[37m\u001b[0m \u001b[1m6s\u001b[0m 4ms/step - accuracy: 0.8534 - loss: 0.4087 - val_accuracy: 0.8616 - val_loss: 0.3867\n",
            "Epoch 3/30\n",
            "\u001b[1m1500/1500\u001b[0m \u001b[32m━━━━━━━━━━━━━━━━━━━━\u001b[0m\u001b[37m\u001b[0m \u001b[1m5s\u001b[0m 3ms/step - accuracy: 0.8712 - loss: 0.3609 - val_accuracy: 0.8706 - val_loss: 0.3576\n",
            "Epoch 4/30\n",
            "\u001b[1m1500/1500\u001b[0m \u001b[32m━━━━━━━━━━━━━━━━━━━━\u001b[0m\u001b[37m\u001b[0m \u001b[1m4s\u001b[0m 3ms/step - accuracy: 0.8792 - loss: 0.3308 - val_accuracy: 0.8673 - val_loss: 0.3695\n",
            "Epoch 5/30\n",
            "\u001b[1m1500/1500\u001b[0m \u001b[32m━━━━━━━━━━━━━━━━━━━━\u001b[0m\u001b[37m\u001b[0m \u001b[1m7s\u001b[0m 4ms/step - accuracy: 0.8871 - loss: 0.3070 - val_accuracy: 0.8789 - val_loss: 0.3395\n",
            "Epoch 6/30\n",
            "\u001b[1m1500/1500\u001b[0m \u001b[32m━━━━━━━━━━━━━━━━━━━━\u001b[0m\u001b[37m\u001b[0m \u001b[1m5s\u001b[0m 4ms/step - accuracy: 0.8916 - loss: 0.2894 - val_accuracy: 0.8735 - val_loss: 0.3515\n",
            "Epoch 7/30\n",
            "\u001b[1m1500/1500\u001b[0m \u001b[32m━━━━━━━━━━━━━━━━━━━━\u001b[0m\u001b[37m\u001b[0m \u001b[1m9s\u001b[0m 3ms/step - accuracy: 0.8958 - loss: 0.2823 - val_accuracy: 0.8840 - val_loss: 0.3243\n",
            "Epoch 8/30\n",
            "\u001b[1m1500/1500\u001b[0m \u001b[32m━━━━━━━━━━━━━━━━━━━━\u001b[0m\u001b[37m\u001b[0m \u001b[1m6s\u001b[0m 4ms/step - accuracy: 0.9022 - loss: 0.2647 - val_accuracy: 0.8811 - val_loss: 0.3342\n",
            "Epoch 9/30\n",
            "\u001b[1m1500/1500\u001b[0m \u001b[32m━━━━━━━━━━━━━━━━━━━━\u001b[0m\u001b[37m\u001b[0m \u001b[1m9s\u001b[0m 3ms/step - accuracy: 0.9034 - loss: 0.2612 - val_accuracy: 0.8873 - val_loss: 0.3243\n",
            "Epoch 10/30\n",
            "\u001b[1m1500/1500\u001b[0m \u001b[32m━━━━━━━━━━━━━━━━━━━━\u001b[0m\u001b[37m\u001b[0m \u001b[1m7s\u001b[0m 4ms/step - accuracy: 0.9054 - loss: 0.2524 - val_accuracy: 0.8798 - val_loss: 0.3409\n",
            "Epoch 11/30\n",
            "\u001b[1m1500/1500\u001b[0m \u001b[32m━━━━━━━━━━━━━━━━━━━━\u001b[0m\u001b[37m\u001b[0m \u001b[1m5s\u001b[0m 3ms/step - accuracy: 0.9085 - loss: 0.2452 - val_accuracy: 0.8854 - val_loss: 0.3195\n",
            "Epoch 12/30\n",
            "\u001b[1m1500/1500\u001b[0m \u001b[32m━━━━━━━━━━━━━━━━━━━━\u001b[0m\u001b[37m\u001b[0m \u001b[1m6s\u001b[0m 3ms/step - accuracy: 0.9133 - loss: 0.2357 - val_accuracy: 0.8848 - val_loss: 0.3362\n",
            "Epoch 13/30\n",
            "\u001b[1m1500/1500\u001b[0m \u001b[32m━━━━━━━━━━━━━━━━━━━━\u001b[0m\u001b[37m\u001b[0m \u001b[1m10s\u001b[0m 3ms/step - accuracy: 0.9171 - loss: 0.2228 - val_accuracy: 0.8903 - val_loss: 0.3183\n",
            "Epoch 14/30\n",
            "\u001b[1m1500/1500\u001b[0m \u001b[32m━━━━━━━━━━━━━━━━━━━━\u001b[0m\u001b[37m\u001b[0m \u001b[1m7s\u001b[0m 4ms/step - accuracy: 0.9172 - loss: 0.2213 - val_accuracy: 0.8850 - val_loss: 0.3280\n",
            "Epoch 15/30\n",
            "\u001b[1m1500/1500\u001b[0m \u001b[32m━━━━━━━━━━━━━━━━━━━━\u001b[0m\u001b[37m\u001b[0m \u001b[1m8s\u001b[0m 3ms/step - accuracy: 0.9182 - loss: 0.2190 - val_accuracy: 0.8778 - val_loss: 0.3536\n",
            "Epoch 16/30\n",
            "\u001b[1m1500/1500\u001b[0m \u001b[32m━━━━━━━━━━━━━━━━━━━━\u001b[0m\u001b[37m\u001b[0m \u001b[1m6s\u001b[0m 4ms/step - accuracy: 0.9208 - loss: 0.2081 - val_accuracy: 0.8852 - val_loss: 0.3438\n",
            "Epoch 17/30\n",
            "\u001b[1m1500/1500\u001b[0m \u001b[32m━━━━━━━━━━━━━━━━━━━━\u001b[0m\u001b[37m\u001b[0m \u001b[1m8s\u001b[0m 3ms/step - accuracy: 0.9232 - loss: 0.2056 - val_accuracy: 0.8808 - val_loss: 0.3465\n",
            "Epoch 18/30\n",
            "\u001b[1m1500/1500\u001b[0m \u001b[32m━━━━━━━━━━━━━━━━━━━━\u001b[0m\u001b[37m\u001b[0m \u001b[1m6s\u001b[0m 4ms/step - accuracy: 0.9262 - loss: 0.1977 - val_accuracy: 0.8873 - val_loss: 0.3409\n",
            "Epoch 19/30\n",
            "\u001b[1m1500/1500\u001b[0m \u001b[32m━━━━━━━━━━━━━━━━━━━━\u001b[0m\u001b[37m\u001b[0m \u001b[1m10s\u001b[0m 4ms/step - accuracy: 0.9272 - loss: 0.1961 - val_accuracy: 0.8895 - val_loss: 0.3389\n",
            "Epoch 20/30\n",
            "\u001b[1m1500/1500\u001b[0m \u001b[32m━━━━━━━━━━━━━━━━━━━━\u001b[0m\u001b[37m\u001b[0m \u001b[1m9s\u001b[0m 3ms/step - accuracy: 0.9295 - loss: 0.1882 - val_accuracy: 0.8836 - val_loss: 0.3583\n",
            "Epoch 21/30\n",
            "\u001b[1m1500/1500\u001b[0m \u001b[32m━━━━━━━━━━━━━━━━━━━━\u001b[0m\u001b[37m\u001b[0m \u001b[1m6s\u001b[0m 4ms/step - accuracy: 0.9306 - loss: 0.1819 - val_accuracy: 0.8862 - val_loss: 0.3662\n",
            "Epoch 22/30\n",
            "\u001b[1m1500/1500\u001b[0m \u001b[32m━━━━━━━━━━━━━━━━━━━━\u001b[0m\u001b[37m\u001b[0m \u001b[1m9s\u001b[0m 3ms/step - accuracy: 0.9323 - loss: 0.1830 - val_accuracy: 0.8916 - val_loss: 0.3509\n",
            "Epoch 23/30\n",
            "\u001b[1m1500/1500\u001b[0m \u001b[32m━━━━━━━━━━━━━━━━━━━━\u001b[0m\u001b[37m\u001b[0m \u001b[1m6s\u001b[0m 4ms/step - accuracy: 0.9354 - loss: 0.1757 - val_accuracy: 0.8960 - val_loss: 0.3308\n",
            "Epoch 24/30\n",
            "\u001b[1m1500/1500\u001b[0m \u001b[32m━━━━━━━━━━━━━━━━━━━━\u001b[0m\u001b[37m\u001b[0m \u001b[1m5s\u001b[0m 3ms/step - accuracy: 0.9355 - loss: 0.1708 - val_accuracy: 0.8895 - val_loss: 0.3540\n",
            "Epoch 25/30\n",
            "\u001b[1m1500/1500\u001b[0m \u001b[32m━━━━━━━━━━━━━━━━━━━━\u001b[0m\u001b[37m\u001b[0m \u001b[1m6s\u001b[0m 4ms/step - accuracy: 0.9360 - loss: 0.1699 - val_accuracy: 0.8883 - val_loss: 0.3732\n",
            "Epoch 26/30\n",
            "\u001b[1m1500/1500\u001b[0m \u001b[32m━━━━━━━━━━━━━━━━━━━━\u001b[0m\u001b[37m\u001b[0m \u001b[1m10s\u001b[0m 4ms/step - accuracy: 0.9385 - loss: 0.1659 - val_accuracy: 0.8913 - val_loss: 0.3517\n",
            "Epoch 27/30\n",
            "\u001b[1m1500/1500\u001b[0m \u001b[32m━━━━━━━━━━━━━━━━━━━━\u001b[0m\u001b[37m\u001b[0m \u001b[1m6s\u001b[0m 4ms/step - accuracy: 0.9395 - loss: 0.1615 - val_accuracy: 0.8852 - val_loss: 0.3747\n",
            "Epoch 28/30\n",
            "\u001b[1m1500/1500\u001b[0m \u001b[32m━━━━━━━━━━━━━━━━━━━━\u001b[0m\u001b[37m\u001b[0m \u001b[1m5s\u001b[0m 3ms/step - accuracy: 0.9429 - loss: 0.1517 - val_accuracy: 0.8845 - val_loss: 0.4062\n",
            "Epoch 29/30\n",
            "\u001b[1m1500/1500\u001b[0m \u001b[32m━━━━━━━━━━━━━━━━━━━━\u001b[0m\u001b[37m\u001b[0m \u001b[1m6s\u001b[0m 4ms/step - accuracy: 0.9436 - loss: 0.1488 - val_accuracy: 0.8888 - val_loss: 0.3672\n",
            "Epoch 30/30\n",
            "\u001b[1m1500/1500\u001b[0m \u001b[32m━━━━━━━━━━━━━━━━━━━━\u001b[0m\u001b[37m\u001b[0m \u001b[1m8s\u001b[0m 3ms/step - accuracy: 0.9444 - loss: 0.1479 - val_accuracy: 0.8898 - val_loss: 0.3700\n",
            "\u001b[1m313/313\u001b[0m \u001b[32m━━━━━━━━━━━━━━━━━━━━\u001b[0m\u001b[37m\u001b[0m \u001b[1m1s\u001b[0m 1ms/step - accuracy: 0.8801 - loss: 0.3989\n",
            "Test error rate: 0.1201\n",
            "Runtime to train the model: 207.41520023345947 seconds\n",
            "Processing dataset: creditcard\n",
            "Epoch 1/30\n",
            "\u001b[1m4747/4747\u001b[0m \u001b[32m━━━━━━━━━━━━━━━━━━━━\u001b[0m\u001b[37m\u001b[0m \u001b[1m14s\u001b[0m 2ms/step - accuracy: 0.9618 - loss: 0.0759 - val_accuracy: 0.9982 - val_loss: 0.0094\n",
            "Epoch 2/30\n",
            "\u001b[1m4747/4747\u001b[0m \u001b[32m━━━━━━━━━━━━━━━━━━━━\u001b[0m\u001b[37m\u001b[0m \u001b[1m10s\u001b[0m 2ms/step - accuracy: 0.9983 - loss: 0.0082 - val_accuracy: 0.9986 - val_loss: 0.0054\n",
            "Epoch 3/30\n",
            "\u001b[1m4747/4747\u001b[0m \u001b[32m━━━━━━━━━━━━━━━━━━━━\u001b[0m\u001b[37m\u001b[0m \u001b[1m20s\u001b[0m 2ms/step - accuracy: 0.9988 - loss: 0.0057 - val_accuracy: 0.9991 - val_loss: 0.0051\n",
            "Epoch 4/30\n",
            "\u001b[1m4747/4747\u001b[0m \u001b[32m━━━━━━━━━━━━━━━━━━━━\u001b[0m\u001b[37m\u001b[0m \u001b[1m8s\u001b[0m 2ms/step - accuracy: 0.9988 - loss: 0.0059 - val_accuracy: 0.9990 - val_loss: 0.0046\n",
            "Epoch 5/30\n",
            "\u001b[1m4747/4747\u001b[0m \u001b[32m━━━━━━━━━━━━━━━━━━━━\u001b[0m\u001b[37m\u001b[0m \u001b[1m11s\u001b[0m 2ms/step - accuracy: 0.9990 - loss: 0.0052 - val_accuracy: 0.9992 - val_loss: 0.0045\n",
            "Epoch 6/30\n",
            "\u001b[1m4747/4747\u001b[0m \u001b[32m━━━━━━━━━━━━━━━━━━━━\u001b[0m\u001b[37m\u001b[0m \u001b[1m10s\u001b[0m 2ms/step - accuracy: 0.9991 - loss: 0.0048 - val_accuracy: 0.9992 - val_loss: 0.0055\n",
            "Epoch 7/30\n",
            "\u001b[1m4747/4747\u001b[0m \u001b[32m━━━━━━━━━━━━━━━━━━━━\u001b[0m\u001b[37m\u001b[0m \u001b[1m10s\u001b[0m 2ms/step - accuracy: 0.9993 - loss: 0.0039 - val_accuracy: 0.9992 - val_loss: 0.0046\n",
            "Epoch 8/30\n",
            "\u001b[1m4747/4747\u001b[0m \u001b[32m━━━━━━━━━━━━━━━━━━━━\u001b[0m\u001b[37m\u001b[0m \u001b[1m9s\u001b[0m 2ms/step - accuracy: 0.9990 - loss: 0.0048 - val_accuracy: 0.9992 - val_loss: 0.0045\n",
            "Epoch 9/30\n",
            "\u001b[1m4747/4747\u001b[0m \u001b[32m━━━━━━━━━━━━━━━━━━━━\u001b[0m\u001b[37m\u001b[0m \u001b[1m11s\u001b[0m 2ms/step - accuracy: 0.9991 - loss: 0.0044 - val_accuracy: 0.9992 - val_loss: 0.0054\n",
            "Epoch 10/30\n",
            "\u001b[1m4747/4747\u001b[0m \u001b[32m━━━━━━━━━━━━━━━━━━━━\u001b[0m\u001b[37m\u001b[0m \u001b[1m11s\u001b[0m 2ms/step - accuracy: 0.9989 - loss: 0.0053 - val_accuracy: 0.9992 - val_loss: 0.0041\n",
            "Epoch 11/30\n",
            "\u001b[1m4747/4747\u001b[0m \u001b[32m━━━━━━━━━━━━━━━━━━━━\u001b[0m\u001b[37m\u001b[0m \u001b[1m10s\u001b[0m 2ms/step - accuracy: 0.9991 - loss: 0.0048 - val_accuracy: 0.9992 - val_loss: 0.0040\n",
            "Epoch 12/30\n",
            "\u001b[1m4747/4747\u001b[0m \u001b[32m━━━━━━━━━━━━━━━━━━━━\u001b[0m\u001b[37m\u001b[0m \u001b[1m10s\u001b[0m 2ms/step - accuracy: 0.9991 - loss: 0.0046 - val_accuracy: 0.9993 - val_loss: 0.0042\n",
            "Epoch 13/30\n",
            "\u001b[1m4747/4747\u001b[0m \u001b[32m━━━━━━━━━━━━━━━━━━━━\u001b[0m\u001b[37m\u001b[0m \u001b[1m11s\u001b[0m 2ms/step - accuracy: 0.9991 - loss: 0.0050 - val_accuracy: 0.9992 - val_loss: 0.0040\n",
            "Epoch 14/30\n",
            "\u001b[1m4747/4747\u001b[0m \u001b[32m━━━━━━━━━━━━━━━━━━━━\u001b[0m\u001b[37m\u001b[0m \u001b[1m10s\u001b[0m 2ms/step - accuracy: 0.9992 - loss: 0.0040 - val_accuracy: 0.9993 - val_loss: 0.0038\n",
            "Epoch 15/30\n",
            "\u001b[1m4747/4747\u001b[0m \u001b[32m━━━━━━━━━━━━━━━━━━━━\u001b[0m\u001b[37m\u001b[0m \u001b[1m8s\u001b[0m 2ms/step - accuracy: 0.9992 - loss: 0.0040 - val_accuracy: 0.9993 - val_loss: 0.0043\n",
            "Epoch 16/30\n",
            "\u001b[1m4747/4747\u001b[0m \u001b[32m━━━━━━━━━━━━━━━━━━━━\u001b[0m\u001b[37m\u001b[0m \u001b[1m11s\u001b[0m 2ms/step - accuracy: 0.9991 - loss: 0.0043 - val_accuracy: 0.9993 - val_loss: 0.0037\n",
            "Epoch 17/30\n",
            "\u001b[1m4747/4747\u001b[0m \u001b[32m━━━━━━━━━━━━━━━━━━━━\u001b[0m\u001b[37m\u001b[0m \u001b[1m10s\u001b[0m 2ms/step - accuracy: 0.9992 - loss: 0.0036 - val_accuracy: 0.9992 - val_loss: 0.0035\n",
            "Epoch 18/30\n",
            "\u001b[1m4747/4747\u001b[0m \u001b[32m━━━━━━━━━━━━━━━━━━━━\u001b[0m\u001b[37m\u001b[0m \u001b[1m8s\u001b[0m 2ms/step - accuracy: 0.9993 - loss: 0.0038 - val_accuracy: 0.9993 - val_loss: 0.0034\n",
            "Epoch 19/30\n",
            "\u001b[1m4747/4747\u001b[0m \u001b[32m━━━━━━━━━━━━━━━━━━━━\u001b[0m\u001b[37m\u001b[0m \u001b[1m9s\u001b[0m 2ms/step - accuracy: 0.9994 - loss: 0.0034 - val_accuracy: 0.9992 - val_loss: 0.0034\n",
            "Epoch 20/30\n",
            "\u001b[1m4747/4747\u001b[0m \u001b[32m━━━━━━━━━━━━━━━━━━━━\u001b[0m\u001b[37m\u001b[0m \u001b[1m11s\u001b[0m 2ms/step - accuracy: 0.9992 - loss: 0.0037 - val_accuracy: 0.9994 - val_loss: 0.0035\n",
            "Epoch 21/30\n",
            "\u001b[1m4747/4747\u001b[0m \u001b[32m━━━━━━━━━━━━━━━━━━━━\u001b[0m\u001b[37m\u001b[0m \u001b[1m10s\u001b[0m 2ms/step - accuracy: 0.9991 - loss: 0.0045 - val_accuracy: 0.9992 - val_loss: 0.0034\n",
            "Epoch 22/30\n",
            "\u001b[1m4747/4747\u001b[0m \u001b[32m━━━━━━━━━━━━━━━━━━━━\u001b[0m\u001b[37m\u001b[0m \u001b[1m8s\u001b[0m 2ms/step - accuracy: 0.9993 - loss: 0.0034 - val_accuracy: 0.9993 - val_loss: 0.0040\n",
            "Epoch 23/30\n",
            "\u001b[1m4747/4747\u001b[0m \u001b[32m━━━━━━━━━━━━━━━━━━━━\u001b[0m\u001b[37m\u001b[0m \u001b[1m12s\u001b[0m 2ms/step - accuracy: 0.9993 - loss: 0.0037 - val_accuracy: 0.9993 - val_loss: 0.0037\n",
            "Epoch 24/30\n",
            "\u001b[1m4747/4747\u001b[0m \u001b[32m━━━━━━━━━━━━━━━━━━━━\u001b[0m\u001b[37m\u001b[0m \u001b[1m10s\u001b[0m 2ms/step - accuracy: 0.9993 - loss: 0.0033 - val_accuracy: 0.9994 - val_loss: 0.0032\n",
            "Epoch 25/30\n",
            "\u001b[1m4747/4747\u001b[0m \u001b[32m━━━━━━━━━━━━━━━━━━━━\u001b[0m\u001b[37m\u001b[0m \u001b[1m9s\u001b[0m 2ms/step - accuracy: 0.9992 - loss: 0.0040 - val_accuracy: 0.9993 - val_loss: 0.0032\n",
            "Epoch 26/30\n",
            "\u001b[1m4747/4747\u001b[0m \u001b[32m━━━━━━━━━━━━━━━━━━━━\u001b[0m\u001b[37m\u001b[0m \u001b[1m10s\u001b[0m 2ms/step - accuracy: 0.9993 - loss: 0.0033 - val_accuracy: 0.9993 - val_loss: 0.0054\n",
            "Epoch 27/30\n",
            "\u001b[1m4747/4747\u001b[0m \u001b[32m━━━━━━━━━━━━━━━━━━━━\u001b[0m\u001b[37m\u001b[0m \u001b[1m10s\u001b[0m 2ms/step - accuracy: 0.9994 - loss: 0.0032 - val_accuracy: 0.9994 - val_loss: 0.0031\n",
            "Epoch 28/30\n",
            "\u001b[1m4747/4747\u001b[0m \u001b[32m━━━━━━━━━━━━━━━━━━━━\u001b[0m\u001b[37m\u001b[0m \u001b[1m9s\u001b[0m 2ms/step - accuracy: 0.9993 - loss: 0.0039 - val_accuracy: 0.9994 - val_loss: 0.0031\n",
            "Epoch 29/30\n",
            "\u001b[1m4747/4747\u001b[0m \u001b[32m━━━━━━━━━━━━━━━━━━━━\u001b[0m\u001b[37m\u001b[0m \u001b[1m9s\u001b[0m 2ms/step - accuracy: 0.9994 - loss: 0.0038 - val_accuracy: 0.9994 - val_loss: 0.0031\n",
            "Epoch 30/30\n",
            "\u001b[1m4747/4747\u001b[0m \u001b[32m━━━━━━━━━━━━━━━━━━━━\u001b[0m\u001b[37m\u001b[0m \u001b[1m10s\u001b[0m 2ms/step - accuracy: 0.9992 - loss: 0.0037 - val_accuracy: 0.9994 - val_loss: 0.0030\n",
            "\u001b[1m2967/2967\u001b[0m \u001b[32m━━━━━━━━━━━━━━━━━━━━\u001b[0m\u001b[37m\u001b[0m \u001b[1m4s\u001b[0m 1ms/step - accuracy: 0.9994 - loss: 0.0032\n",
            "Test error rate: 0.0006\n",
            "Runtime to train the model: 309.1149756908417 seconds\n"
          ]
        }
      ],
      "source": [
        "# Do not change the code in this cell.\n",
        "# This cell has no code to write. It trains and assesses your shallow model using the classification datasets.\n",
        "\n",
        "results = defaultdict(dict)\n",
        "datasets = [\"adult\", \"covertype\", \"fashion_mnist\", \"creditcard\"]\n",
        "\n",
        "for dataset in datasets:\n",
        "    print(f\"Processing dataset: {dataset}\")\n",
        "\n",
        "    # Load the train and test data\n",
        "    X_train, y_train, X_test, y_test = load_train_test_data(f\"data/{dataset}/nn/\")\n",
        "\n",
        "    start = time.time()\n",
        "    model = train_shallow_net_class(X_train, y_train)\n",
        "    end = time.time()\n",
        "\n",
        "    test_loss, test_accuracy = model.evaluate(X_test, y_test)\n",
        "    print(f'Test error rate: {1 - test_accuracy:.4f}')\n",
        "    print(f'Runtime to train the model: {end-start} seconds')\n",
        "\n",
        "    results[\"Neural Net\"].setdefault(dataset, {})\n",
        "    results[\"Neural Net\"][dataset][\"Prediction quality\"] =  1 - test_accuracy         # Error rate = 1 - accuracy\n",
        "    results[\"Neural Net\"][dataset][\"Training time\"] = end-start"
      ]
    },
    {
      "cell_type": "markdown",
      "metadata": {
        "id": "PprK9TIM4k4Y"
      },
      "source": [
        "### Task 2.2 [4 Marks] - Shallow neural net for regression\n",
        "\n",
        "Like the previous task, create a function ``train_shallow_net_regression(X_train, y_train)`` that trains a shallow neural net for regression using the training data ``X_train`` and labels ``y_train``. Use the following hyperparameters:\n",
        "1. A single hidden layer with $D_h = \\text{round}(\\sqrt{D_i * D_o})$ units.\n",
        "2. ReLU activation in the hidden layer and linear on the output layer.\n",
        "3. MSE loss function.\n",
        "4. Train for 30 epochs.\n",
        "5. Batch size of 32 instances.\n",
        "6. Validation split of 20% of the training data.\n",
        "7. Adam optimiser."
      ]
    },
    {
      "cell_type": "code",
      "execution_count": 21,
      "metadata": {
        "id": "ZfJoQlji4k4Y"
      },
      "outputs": [],
      "source": [
        "# This cell will be assessed. Replace the ... with your code\n",
        "\n",
        "def train_shallow_net_regression(X_train, y_train):\n",
        "    \"\"\"\n",
        "    Trains a shallow neural net with one hidden layer using the training data.\n",
        "\n",
        "    Parameters:\n",
        "    - X_train (DataFrame): Training features.\n",
        "    - y_train (DataFrame): Training labels (one-hot encoded for classification).\n",
        "    - Dh (int): Number of units in the hidden layer.\n",
        "\n",
        "    Returns:\n",
        "    - model: Trained Keras neural network model.\n",
        "    \"\"\"\n",
        "    ... # TODO\n",
        "    D_i = X_train.shape[1]\n",
        "    # Number of output classes\n",
        "    D_o = y_train.shape[1]  if len(y_train.shape) > 1 else 1\n",
        "    # Calculate number of units in the hidden layer\n",
        "    D_h = round((D_i * D_o) ** 0.5)\n",
        "\n",
        "    model = Sequential([Input(shape=(D_i,)), Dense(D_h, activation='relu'),Dense(D_o, activation='linear')])\n",
        "\n",
        "    model.compile(optimizer=Adam(), loss='MSE', metrics=['MSE'])\n",
        "\n",
        "    model.fit(X_train, y_train, epochs=30, validation_split=0.2, batch_size=32)\n",
        "    return model"
      ]
    },
    {
      "cell_type": "markdown",
      "metadata": {
        "id": "VSUJidXj4k4Y"
      },
      "source": [
        "Once again, we will run your code for each regression dataset. This assignment has only one of such datasets, but we will keep a similar code we implemented before."
      ]
    },
    {
      "cell_type": "code",
      "execution_count": 22,
      "metadata": {
        "colab": {
          "base_uri": "https://localhost:8080/"
        },
        "id": "38QfbUn94k4Y",
        "outputId": "2494877a-754b-44d9-eaa6-0729940941eb"
      },
      "outputs": [
        {
          "output_type": "stream",
          "name": "stdout",
          "text": [
            "Processing dataset: california_housing\n",
            "Epoch 1/30\n",
            "\u001b[1m344/344\u001b[0m \u001b[32m━━━━━━━━━━━━━━━━━━━━\u001b[0m\u001b[37m\u001b[0m \u001b[1m2s\u001b[0m 2ms/step - MSE: 4.9174 - loss: 4.9174 - val_MSE: 1.6875 - val_loss: 1.6875\n",
            "Epoch 2/30\n",
            "\u001b[1m344/344\u001b[0m \u001b[32m━━━━━━━━━━━━━━━━━━━━\u001b[0m\u001b[37m\u001b[0m \u001b[1m1s\u001b[0m 2ms/step - MSE: 1.4187 - loss: 1.4187 - val_MSE: 1.2675 - val_loss: 1.2675\n",
            "Epoch 3/30\n",
            "\u001b[1m344/344\u001b[0m \u001b[32m━━━━━━━━━━━━━━━━━━━━\u001b[0m\u001b[37m\u001b[0m \u001b[1m1s\u001b[0m 2ms/step - MSE: 1.2043 - loss: 1.2043 - val_MSE: 1.1618 - val_loss: 1.1618\n",
            "Epoch 4/30\n",
            "\u001b[1m344/344\u001b[0m \u001b[32m━━━━━━━━━━━━━━━━━━━━\u001b[0m\u001b[37m\u001b[0m \u001b[1m1s\u001b[0m 2ms/step - MSE: 1.1097 - loss: 1.1097 - val_MSE: 1.0616 - val_loss: 1.0616\n",
            "Epoch 5/30\n",
            "\u001b[1m344/344\u001b[0m \u001b[32m━━━━━━━━━━━━━━━━━━━━\u001b[0m\u001b[37m\u001b[0m \u001b[1m1s\u001b[0m 2ms/step - MSE: 1.0118 - loss: 1.0118 - val_MSE: 0.9653 - val_loss: 0.9653\n",
            "Epoch 6/30\n",
            "\u001b[1m344/344\u001b[0m \u001b[32m━━━━━━━━━━━━━━━━━━━━\u001b[0m\u001b[37m\u001b[0m \u001b[1m1s\u001b[0m 2ms/step - MSE: 0.9012 - loss: 0.9012 - val_MSE: 0.8671 - val_loss: 0.8671\n",
            "Epoch 7/30\n",
            "\u001b[1m344/344\u001b[0m \u001b[32m━━━━━━━━━━━━━━━━━━━━\u001b[0m\u001b[37m\u001b[0m \u001b[1m2s\u001b[0m 3ms/step - MSE: 0.8252 - loss: 0.8252 - val_MSE: 0.7757 - val_loss: 0.7757\n",
            "Epoch 8/30\n",
            "\u001b[1m344/344\u001b[0m \u001b[32m━━━━━━━━━━━━━━━━━━━━\u001b[0m\u001b[37m\u001b[0m \u001b[1m1s\u001b[0m 3ms/step - MSE: 0.7347 - loss: 0.7347 - val_MSE: 0.7066 - val_loss: 0.7066\n",
            "Epoch 9/30\n",
            "\u001b[1m344/344\u001b[0m \u001b[32m━━━━━━━━━━━━━━━━━━━━\u001b[0m\u001b[37m\u001b[0m \u001b[1m1s\u001b[0m 3ms/step - MSE: 0.6562 - loss: 0.6562 - val_MSE: 0.6624 - val_loss: 0.6624\n",
            "Epoch 10/30\n",
            "\u001b[1m344/344\u001b[0m \u001b[32m━━━━━━━━━━━━━━━━━━━━\u001b[0m\u001b[37m\u001b[0m \u001b[1m1s\u001b[0m 2ms/step - MSE: 0.6194 - loss: 0.6194 - val_MSE: 0.6384 - val_loss: 0.6384\n",
            "Epoch 11/30\n",
            "\u001b[1m344/344\u001b[0m \u001b[32m━━━━━━━━━━━━━━━━━━━━\u001b[0m\u001b[37m\u001b[0m \u001b[1m1s\u001b[0m 2ms/step - MSE: 0.6105 - loss: 0.6105 - val_MSE: 0.6219 - val_loss: 0.6219\n",
            "Epoch 12/30\n",
            "\u001b[1m344/344\u001b[0m \u001b[32m━━━━━━━━━━━━━━━━━━━━\u001b[0m\u001b[37m\u001b[0m \u001b[1m1s\u001b[0m 2ms/step - MSE: 0.6082 - loss: 0.6082 - val_MSE: 0.6162 - val_loss: 0.6162\n",
            "Epoch 13/30\n",
            "\u001b[1m344/344\u001b[0m \u001b[32m━━━━━━━━━━━━━━━━━━━━\u001b[0m\u001b[37m\u001b[0m \u001b[1m1s\u001b[0m 2ms/step - MSE: 0.6079 - loss: 0.6079 - val_MSE: 0.6119 - val_loss: 0.6119\n",
            "Epoch 14/30\n",
            "\u001b[1m344/344\u001b[0m \u001b[32m━━━━━━━━━━━━━━━━━━━━\u001b[0m\u001b[37m\u001b[0m \u001b[1m1s\u001b[0m 2ms/step - MSE: 0.5780 - loss: 0.5780 - val_MSE: 0.6075 - val_loss: 0.6075\n",
            "Epoch 15/30\n",
            "\u001b[1m344/344\u001b[0m \u001b[32m━━━━━━━━━━━━━━━━━━━━\u001b[0m\u001b[37m\u001b[0m \u001b[1m1s\u001b[0m 2ms/step - MSE: 0.5823 - loss: 0.5823 - val_MSE: 0.6047 - val_loss: 0.6047\n",
            "Epoch 16/30\n",
            "\u001b[1m344/344\u001b[0m \u001b[32m━━━━━━━━━━━━━━━━━━━━\u001b[0m\u001b[37m\u001b[0m \u001b[1m1s\u001b[0m 2ms/step - MSE: 0.5713 - loss: 0.5713 - val_MSE: 0.6020 - val_loss: 0.6020\n",
            "Epoch 17/30\n",
            "\u001b[1m344/344\u001b[0m \u001b[32m━━━━━━━━━━━━━━━━━━━━\u001b[0m\u001b[37m\u001b[0m \u001b[1m1s\u001b[0m 2ms/step - MSE: 0.5520 - loss: 0.5520 - val_MSE: 0.5990 - val_loss: 0.5990\n",
            "Epoch 18/30\n",
            "\u001b[1m344/344\u001b[0m \u001b[32m━━━━━━━━━━━━━━━━━━━━\u001b[0m\u001b[37m\u001b[0m \u001b[1m1s\u001b[0m 2ms/step - MSE: 0.5640 - loss: 0.5640 - val_MSE: 0.5960 - val_loss: 0.5960\n",
            "Epoch 19/30\n",
            "\u001b[1m344/344\u001b[0m \u001b[32m━━━━━━━━━━━━━━━━━━━━\u001b[0m\u001b[37m\u001b[0m \u001b[1m1s\u001b[0m 2ms/step - MSE: 0.5815 - loss: 0.5815 - val_MSE: 0.5932 - val_loss: 0.5932\n",
            "Epoch 20/30\n",
            "\u001b[1m344/344\u001b[0m \u001b[32m━━━━━━━━━━━━━━━━━━━━\u001b[0m\u001b[37m\u001b[0m \u001b[1m2s\u001b[0m 3ms/step - MSE: 0.5588 - loss: 0.5588 - val_MSE: 0.5905 - val_loss: 0.5905\n",
            "Epoch 21/30\n",
            "\u001b[1m344/344\u001b[0m \u001b[32m━━━━━━━━━━━━━━━━━━━━\u001b[0m\u001b[37m\u001b[0m \u001b[1m1s\u001b[0m 3ms/step - MSE: 0.5651 - loss: 0.5651 - val_MSE: 0.5878 - val_loss: 0.5878\n",
            "Epoch 22/30\n",
            "\u001b[1m344/344\u001b[0m \u001b[32m━━━━━━━━━━━━━━━━━━━━\u001b[0m\u001b[37m\u001b[0m \u001b[1m1s\u001b[0m 3ms/step - MSE: 0.5809 - loss: 0.5809 - val_MSE: 0.5852 - val_loss: 0.5852\n",
            "Epoch 23/30\n",
            "\u001b[1m344/344\u001b[0m \u001b[32m━━━━━━━━━━━━━━━━━━━━\u001b[0m\u001b[37m\u001b[0m \u001b[1m1s\u001b[0m 2ms/step - MSE: 0.5584 - loss: 0.5584 - val_MSE: 0.5829 - val_loss: 0.5829\n",
            "Epoch 24/30\n",
            "\u001b[1m344/344\u001b[0m \u001b[32m━━━━━━━━━━━━━━━━━━━━\u001b[0m\u001b[37m\u001b[0m \u001b[1m1s\u001b[0m 2ms/step - MSE: 0.5516 - loss: 0.5516 - val_MSE: 0.5813 - val_loss: 0.5813\n",
            "Epoch 25/30\n",
            "\u001b[1m344/344\u001b[0m \u001b[32m━━━━━━━━━━━━━━━━━━━━\u001b[0m\u001b[37m\u001b[0m \u001b[1m1s\u001b[0m 2ms/step - MSE: 0.5401 - loss: 0.5401 - val_MSE: 0.5780 - val_loss: 0.5780\n",
            "Epoch 26/30\n",
            "\u001b[1m344/344\u001b[0m \u001b[32m━━━━━━━━━━━━━━━━━━━━\u001b[0m\u001b[37m\u001b[0m \u001b[1m1s\u001b[0m 2ms/step - MSE: 0.5325 - loss: 0.5325 - val_MSE: 0.5756 - val_loss: 0.5756\n",
            "Epoch 27/30\n",
            "\u001b[1m344/344\u001b[0m \u001b[32m━━━━━━━━━━━━━━━━━━━━\u001b[0m\u001b[37m\u001b[0m \u001b[1m1s\u001b[0m 2ms/step - MSE: 0.5182 - loss: 0.5182 - val_MSE: 0.5732 - val_loss: 0.5732\n",
            "Epoch 28/30\n",
            "\u001b[1m344/344\u001b[0m \u001b[32m━━━━━━━━━━━━━━━━━━━━\u001b[0m\u001b[37m\u001b[0m \u001b[1m1s\u001b[0m 2ms/step - MSE: 0.5321 - loss: 0.5321 - val_MSE: 0.5717 - val_loss: 0.5717\n",
            "Epoch 29/30\n",
            "\u001b[1m344/344\u001b[0m \u001b[32m━━━━━━━━━━━━━━━━━━━━\u001b[0m\u001b[37m\u001b[0m \u001b[1m1s\u001b[0m 2ms/step - MSE: 0.5447 - loss: 0.5447 - val_MSE: 0.5715 - val_loss: 0.5715\n",
            "Epoch 30/30\n",
            "\u001b[1m344/344\u001b[0m \u001b[32m━━━━━━━━━━━━━━━━━━━━\u001b[0m\u001b[37m\u001b[0m \u001b[1m1s\u001b[0m 2ms/step - MSE: 0.5298 - loss: 0.5298 - val_MSE: 0.5671 - val_loss: 0.5671\n",
            "\u001b[1m215/215\u001b[0m \u001b[32m━━━━━━━━━━━━━━━━━━━━\u001b[0m\u001b[37m\u001b[0m \u001b[1m0s\u001b[0m 1ms/step - MSE: 0.5504 - loss: 0.5504\n",
            "Test MSE: 0.5435\n",
            "Runtime to train the model: 30.22671413421631 seconds\n"
          ]
        }
      ],
      "source": [
        "# Do not change the code in this cell.\n",
        "# This cell has no code to write. It trains and assesses your shallow model using the regression dataset.\n",
        "\n",
        "datasets = [\"california_housing\"]\n",
        "\n",
        "for dataset in datasets:\n",
        "    print(f\"Processing dataset: {dataset}\")\n",
        "\n",
        "    # Load the train and test data\n",
        "    X_train, y_train, X_test, y_test = load_train_test_data(f\"data/{dataset}/nn/\")\n",
        "\n",
        "    start = time.time()\n",
        "    model = train_shallow_net_regression(X_train, y_train)\n",
        "    end = time.time()\n",
        "\n",
        "    # Make predictions\n",
        "    test_loss, test_mse = model.evaluate(X_test, y_test)\n",
        "    print(f'Test MSE: {test_mse:.4f}')\n",
        "    print(f'Runtime to train the model: {end-start} seconds')\n",
        "\n",
        "    results[\"Neural Net\"].setdefault(dataset, {})\n",
        "    results[\"Neural Net\"][dataset][\"Prediction quality\"] = test_mse\n",
        "    results[\"Neural Net\"][dataset][\"Training time\"] = end-start"
      ]
    },
    {
      "cell_type": "markdown",
      "metadata": {
        "id": "QxQ12FUs4k4Y"
      },
      "source": [
        "### Task 2.3 [2 Marks] - Decision tree models for classification\n",
        "\n",
        "Implement a function ``train_classification_tree(X_train, y_train)`` that trains a decision tree model using the training data ``X_train`` and labels ``y_train``. This function should return a trained Scikit-Learn decision tree classifier."
      ]
    },
    {
      "cell_type": "code",
      "execution_count": 23,
      "metadata": {
        "id": "pYCHezfm4k4Y"
      },
      "outputs": [],
      "source": [
        "# This cell will be assessed. Replace the ... with your code\n",
        "\n",
        "def train_classification_tree(X_train, y_train):\n",
        "    \"\"\"\n",
        "    Trains a Decision Tree for classification.\n",
        "\n",
        "    Parameters:\n",
        "    - X_train (DataFrame): Training features.\n",
        "    - y_train (DataFrame): Training class labels.\n",
        "\n",
        "    Returns:\n",
        "    - model: Trained Decision Tree Classifier.\n",
        "    \"\"\"\n",
        "    ... # TODO\n",
        "    model = DecisionTreeClassifier()\n",
        "    model.fit(X_train, y_train)\n",
        "\n",
        "    return model\n"
      ]
    },
    {
      "cell_type": "markdown",
      "metadata": {
        "id": "DezZRM6n4k4Y"
      },
      "source": [
        "The code below executes the tree models and records the test accuracy and training time."
      ]
    },
    {
      "cell_type": "code",
      "execution_count": 24,
      "metadata": {
        "colab": {
          "base_uri": "https://localhost:8080/"
        },
        "id": "eLa-2hEk4k4Y",
        "outputId": "237312ad-f39f-4096-f155-b05f5008e7b6"
      },
      "outputs": [
        {
          "output_type": "stream",
          "name": "stdout",
          "text": [
            "Processing dataset: adult\n",
            "Training decision tree model\n",
            "Test error rate: 0.1867\n",
            "Runtime to train the model: 0.7538950443267822 seconds\n",
            "Processing dataset: covertype\n",
            "Training decision tree model\n",
            "Test error rate: 0.0949\n",
            "Runtime to train the model: 8.920377254486084 seconds\n",
            "Processing dataset: fashion_mnist\n",
            "Training decision tree model\n",
            "Test error rate: 0.2103\n",
            "Runtime to train the model: 55.72782230377197 seconds\n",
            "Processing dataset: creditcard\n",
            "Training decision tree model\n",
            "Test error rate: 0.0009\n",
            "Runtime to train the model: 27.418245553970337 seconds\n"
          ]
        }
      ],
      "source": [
        "# Do not change the code in this cell.\n",
        "# This cell has no code to write. It trains and assesses your decision tree model using the classification datasets.\n",
        "\n",
        "datasets = [\"adult\", \"covertype\", \"fashion_mnist\", \"creditcard\"]\n",
        "\n",
        "for dataset in datasets:\n",
        "    print(f\"Processing dataset: {dataset}\")\n",
        "\n",
        "    # Load the train and test data\n",
        "    X_train, y_train, X_test, y_test = load_train_test_data(f\"data/{dataset}/tree/\")\n",
        "\n",
        "    print(\"Training decision tree model\")\n",
        "\n",
        "    start = time.time()\n",
        "    model = train_classification_tree(X_train, y_train)\n",
        "    end = time.time()\n",
        "\n",
        "    # Make predictions\n",
        "    y_pred = model.predict(X_test)\n",
        "    test_accuracy = accuracy_score(y_test, y_pred)\n",
        "\n",
        "    print(f'Test error rate: {1 - test_accuracy:.4f}')\n",
        "    print(f'Runtime to train the model: {end-start} seconds')\n",
        "\n",
        "    results[\"Decision Tree\"].setdefault(dataset, {})\n",
        "    results[\"Decision Tree\"][dataset][\"Prediction quality\"] = 1 - test_accuracy\n",
        "    results[\"Decision Tree\"][dataset][\"Training time\"] = end-start"
      ]
    },
    {
      "cell_type": "markdown",
      "metadata": {
        "id": "hkZytovi4k4Y"
      },
      "source": [
        "### Task 2.4 [2 Marks] - Decision tree models for regression\n",
        "\n",
        "Implement a function ``train_regression_tree(X_train, y_train)`` that trains a regression tree model using the training data ``X_train`` and labels ``y_train``. This function should return a trained Scikit-Learn decision tree regressor."
      ]
    },
    {
      "cell_type": "code",
      "execution_count": 25,
      "metadata": {
        "id": "r-zvf83f4k4Y"
      },
      "outputs": [],
      "source": [
        "# This cell will be assessed. Replace the ... with your code\n",
        "\n",
        "def train_regression_tree(X_train, y_train):\n",
        "    \"\"\"\n",
        "    Trains a Decision Tree for regression.\n",
        "\n",
        "    Parameters:\n",
        "    - X_train (DataFrame): Training features.\n",
        "    - y_train (DataFrame): Training target values.\n",
        "\n",
        "    Returns:\n",
        "    - model: Trained Decision Tree Regressor.\n",
        "    \"\"\"\n",
        "    ... # TODO\n",
        "    model = DecisionTreeRegressor()\n",
        "    model.fit(X_train, y_train)\n",
        "\n",
        "    return model\n"
      ]
    },
    {
      "cell_type": "markdown",
      "metadata": {
        "id": "yF9r95YT4k4Z"
      },
      "source": [
        "The code below executes the regression tree models and saves the running time and test mean squared error."
      ]
    },
    {
      "cell_type": "code",
      "execution_count": 26,
      "metadata": {
        "colab": {
          "base_uri": "https://localhost:8080/"
        },
        "id": "pMEJ6NvD4k4Z",
        "outputId": "767871bf-3614-4f43-b626-b0913b2e3dbf"
      },
      "outputs": [
        {
          "output_type": "stream",
          "name": "stdout",
          "text": [
            "Processing dataset: california_housing\n",
            "Training regression tree model\n",
            "Test accuracy: 0.5134\n",
            "Runtime to train the model: 0.2087078094482422 seconds\n"
          ]
        }
      ],
      "source": [
        "# Do not change the code in this cell.\n",
        "# This cell has no code to write. It trains and assesses your regression tree model using the regression dataset.\n",
        "\n",
        "datasets = [\"california_housing\"]\n",
        "\n",
        "for dataset in datasets:\n",
        "    print(f\"Processing dataset: {dataset}\")\n",
        "\n",
        "    # Load the train and test data\n",
        "    X_train, y_train, X_test, y_test = load_train_test_data(f\"data/{dataset}/tree/\")\n",
        "\n",
        "    print(\"Training regression tree model\")\n",
        "\n",
        "    start = time.time()\n",
        "    model = train_regression_tree(X_train, y_train)\n",
        "    end = time.time()\n",
        "\n",
        "    # Make predictions\n",
        "    y_pred = model.predict(X_test)\n",
        "    test_mse = mean_squared_error(y_test, y_pred)\n",
        "\n",
        "    print(f'Test accuracy: {test_mse:.4f}')\n",
        "    print(f'Runtime to train the model: {end-start} seconds')\n",
        "\n",
        "    results[\"Decision Tree\"].setdefault(dataset, {})\n",
        "    results[\"Decision Tree\"][dataset][\"Prediction quality\"] = test_mse\n",
        "    results[\"Decision Tree\"][dataset][\"Training time\"] = end-start"
      ]
    },
    {
      "cell_type": "markdown",
      "metadata": {
        "id": "KXZq5GL_4k4Z"
      },
      "source": [
        "### Task 2.5 [2 Marks] - Random forest models for classification\n",
        "\n",
        "Implement a function ``train_classification_forest(X_train, y_train)`` that trains a random forest model for classification using the training data ``X_train`` and labels ``y_train``. This function should return a trained Scikit-Learn random forest classifier."
      ]
    },
    {
      "cell_type": "code",
      "execution_count": 27,
      "metadata": {
        "id": "nqtnY07y4k4Z"
      },
      "outputs": [],
      "source": [
        "# This cell will be assessed. Replace the ... with your code\n",
        "\n",
        "def train_classification_forest(X_train, y_train):\n",
        "    \"\"\"\n",
        "    Trains a Random Forest for classification.\n",
        "\n",
        "    Parameters:\n",
        "    - X_train (DataFrame): Training features.\n",
        "    - y_train (DataFrame): Training class labels.\n",
        "\n",
        "    Returns:\n",
        "    - model: Trained Random Forest Classifier.\n",
        "    \"\"\"\n",
        "    ... # TODO\n",
        "    model = RandomForestClassifier()\n",
        "\n",
        "    model.fit(X_train, y_train)\n",
        "    return model"
      ]
    },
    {
      "cell_type": "markdown",
      "metadata": {
        "id": "OaaUUfw64k4Z"
      },
      "source": [
        "The code below executes the randon forest models and records the training time and test accuracy"
      ]
    },
    {
      "cell_type": "code",
      "execution_count": 28,
      "metadata": {
        "colab": {
          "base_uri": "https://localhost:8080/"
        },
        "id": "jDifjl-a4k4c",
        "outputId": "ad3ba862-b5d4-4fcd-d534-2c0cba105540"
      },
      "outputs": [
        {
          "output_type": "stream",
          "name": "stdout",
          "text": [
            "Processing dataset: adult\n",
            "Training random forest model\n",
            "Test error rate: 0.1485\n",
            "Runtime to train the model: 6.719191312789917 seconds\n",
            "Processing dataset: covertype\n",
            "Training random forest model\n",
            "Test error rate: 0.0762\n",
            "Runtime to train the model: 122.71140098571777 seconds\n",
            "Processing dataset: fashion_mnist\n",
            "Training random forest model\n",
            "Test error rate: 0.1256\n",
            "Runtime to train the model: 120.0507435798645 seconds\n",
            "Processing dataset: creditcard\n",
            "Training random forest model\n",
            "Test error rate: 0.0004\n",
            "Runtime to train the model: 262.6394453048706 seconds\n"
          ]
        }
      ],
      "source": [
        "# Do not change the code in this cell.\n",
        "# This cell has no code to write. It trains and assesses your random forest model using the classification datasets.\n",
        "\n",
        "datasets = [\"adult\", \"covertype\", \"fashion_mnist\", \"creditcard\"]\n",
        "\n",
        "for dataset in datasets:\n",
        "    print(f\"Processing dataset: {dataset}\")\n",
        "\n",
        "    # Load the train and test data\n",
        "    X_train, y_train, X_test, y_test = load_train_test_data(f\"data/{dataset}/tree/\")\n",
        "\n",
        "    print(\"Training random forest model\")\n",
        "\n",
        "    start = time.time()\n",
        "    model = train_classification_forest(X_train, np.array(y_train).ravel())\n",
        "    end = time.time()\n",
        "\n",
        "    # Make predictions\n",
        "    y_pred = model.predict(X_test)\n",
        "    test_accuracy = accuracy_score(y_test, y_pred)\n",
        "\n",
        "    print(f'Test error rate: {1 - test_accuracy:.4f}')\n",
        "    print(f'Runtime to train the model: {end-start} seconds')\n",
        "\n",
        "    results[\"Random Forest\"].setdefault(dataset, {})\n",
        "    results[\"Random Forest\"][dataset][\"Prediction quality\"] = 1 - test_accuracy\n",
        "    results[\"Random Forest\"][dataset][\"Training time\"] = end-start"
      ]
    },
    {
      "cell_type": "markdown",
      "metadata": {
        "id": "rD8K2DqW4k4d"
      },
      "source": [
        "### Task 2.6 [2 Marks] - Random Forest Models for Regression\n",
        "\n",
        "Finally, implement a function ``train_regression_forest(X_train, y_train)`` that trains a random forest model for regression using the training data ``X_train`` and labels ``y_train``. This function should return a trained Scikit-Learn random forest regressor."
      ]
    },
    {
      "cell_type": "code",
      "execution_count": 29,
      "metadata": {
        "id": "GDInXGN-4k4d"
      },
      "outputs": [],
      "source": [
        "# This cell will be assessed. Replace the ... with your code\n",
        "\n",
        "def train_regression_forest(X_train, y_train):\n",
        "    \"\"\"\n",
        "    Trains a Random Forest for regression.\n",
        "\n",
        "    Parameters:\n",
        "    - X_train (DataFrame): Training features.\n",
        "    - y_train (DataFrame): Training target values.\n",
        "\n",
        "    Returns:\n",
        "    - model: Trained Random Forest Regressor.\n",
        "    \"\"\"\n",
        "    ... # TODO\n",
        "    model = RandomForestRegressor()\n",
        "    model.fit(X_train, y_train)\n",
        "    return model"
      ]
    },
    {
      "cell_type": "markdown",
      "metadata": {
        "id": "PzxKJYRn4k4d"
      },
      "source": [
        "The code below executes the random forest models for regression and records the training time and mean squared error.\n",
        "\n"
      ]
    },
    {
      "cell_type": "code",
      "execution_count": 30,
      "metadata": {
        "colab": {
          "base_uri": "https://localhost:8080/"
        },
        "id": "h2EtQPU54k4d",
        "outputId": "fb83e885-81b7-416f-8ed4-2d2c3a1cf45b"
      },
      "outputs": [
        {
          "output_type": "stream",
          "name": "stdout",
          "text": [
            "Processing dataset: california_housing\n",
            "Training random forest model\n",
            "Test MSE: 0.2580\n",
            "Runtime to train the model: 14.683118343353271 seconds\n"
          ]
        }
      ],
      "source": [
        "# Do not change the code in this cell.\n",
        "# This cell has no code to write. It trains and assesses your random forest model using the regression dataset.\n",
        "\n",
        "datasets = [\"california_housing\"]\n",
        "\n",
        "for dataset in datasets:\n",
        "    print(f\"Processing dataset: {dataset}\")\n",
        "\n",
        "    # Load the train and test data\n",
        "    X_train, y_train, X_test, y_test = load_train_test_data(f\"data/{dataset}/tree/\")\n",
        "\n",
        "    print(\"Training random forest model\")\n",
        "\n",
        "    start = time.time()\n",
        "    model = train_regression_forest(X_train, np.array(y_train).ravel())\n",
        "    end = time.time()\n",
        "\n",
        "    # Make predictions\n",
        "    y_pred = model.predict(X_test)\n",
        "    test_mse = mean_squared_error(y_test, y_pred)\n",
        "\n",
        "    print(f'Test MSE: {test_mse:.4f}')\n",
        "    print(f'Runtime to train the model: {end-start} seconds')\n",
        "\n",
        "    results[\"Random Forest\"].setdefault(dataset, {})\n",
        "    results[\"Random Forest\"][dataset][\"Prediction quality\"] = test_mse\n",
        "    results[\"Random Forest\"][dataset][\"Training time\"] = end-start"
      ]
    },
    {
      "cell_type": "markdown",
      "metadata": {
        "id": "Ds6aCe1r4k4d"
      },
      "source": [
        "### Summarising the Results\n",
        "\n",
        "Congratulations, we have reached the end of Task 2. The next cell will summarise the results obtained in a single table."
      ]
    },
    {
      "cell_type": "code",
      "execution_count": null,
      "metadata": {
        "id": "8UZ4E5ha4k4d"
      },
      "outputs": [],
      "source": [
        "# Do not change the code in this cell.\n",
        "# This cell has no code to write. It summarises the results in a tabular format\n",
        "\n",
        "def format_values(row):\n",
        "    \"\"\"Format numeric values to 4 decimal places.\"\"\"\n",
        "    return {k: f\"{v:.4f}\" if isinstance(v, float) else v for k, v in row.items()}\n",
        "\n",
        "def print_results_table(results):\n",
        "    \"\"\"\n",
        "    Converts a nested dictionary of results into a table and prints it with separation lines for datasets.\n",
        "    \"\"\"\n",
        "    # Flatten the nested dictionary into a list of rows\n",
        "    flattened_data = [\n",
        "        {\"Dataset\": dataset, \"Model\": model, **metrics}\n",
        "        for model, datasets in results.items()\n",
        "        for dataset, metrics in datasets.items()\n",
        "    ]\n",
        "\n",
        "    # Sort the data by the \"Dataset\" column\n",
        "    flattened_data_sorted = sorted(flattened_data, key=lambda x: x[\"Dataset\"])\n",
        "\n",
        "    # Add separator rows between datasets\n",
        "    formatted_data = []\n",
        "    previous_dataset = None\n",
        "    for row in flattened_data_sorted:\n",
        "        if previous_dataset and row[\"Dataset\"] != previous_dataset:\n",
        "            # Insert a separator row\n",
        "            formatted_data.append({key: \"----\" for key in row.keys()})\n",
        "        formatted_data.append(format_values(row))\n",
        "        previous_dataset = row[\"Dataset\"]\n",
        "\n",
        "    # Extract headers\n",
        "    headers = list(formatted_data[0].keys())\n",
        "\n",
        "    # Generate and print the table\n",
        "    table = tabulate(formatted_data, headers=\"keys\", tablefmt=\"pretty\", missingval=\"N/A\")\n",
        "    print(table)\n",
        "\n",
        "print_results_table(results)"
      ]
    },
    {
      "cell_type": "markdown",
      "metadata": {
        "id": "fx0vTa0V4k4d"
      },
      "source": [
        "## Task 3 [32 Marks] - Hyperparameter optimisation\n",
        "\n",
        "So far, we have used a fixed set of hyperparameters, but it is unclear if they are a good choice for our datasets. We will use Keras Tuner and Scikit Learn libraries to test different hyperparameter combinations. We will start with the Neural Net models."
      ]
    },
    {
      "cell_type": "markdown",
      "metadata": {
        "id": "eLaBy8cb4k4d"
      },
      "source": [
        "### Task 3.1 [8 Marks] - Hyperparameter optimisation for classification neural nets\n",
        "\n",
        "Create a function ``tune_train_classification_net(X_train, y_train, n_iter, project_name)`` that uses Keras tuner's ``RandomSearch`` to optimise the hyperparameters of a neural net model. ``X_train`` and ``y_train`` are pandas dataframes with the training data and labels. ``n_iter`` is the maximum number of iterations in the random search. ``project_name`` is an identifier used by Keras tuner to save the results on disk.\n",
        "\n",
        "You have the freedom to choose your hyperparameter search space. Here are some suggestions based on the tutorials:\n",
        "1. Depth. To make your model deeper, test a larger number of hidden layers, up to 3.\n",
        "2. Width. Try different combinations of numbers of neurons per layer. For instance, you can try from $D_h / 2$ to $D_h * 2$.\n",
        "3. Activation functions. ReLU, TANH and Sigmoid are common choices.\n",
        "4. Optimiser. Adam and SGD.\n",
        "5. Learning rate. A typical range is 1e-4 to 1e-2.\n",
        "\n",
        "Your function should return the Keras model that achieved the best performance in a validation set of 20% of the training data. Average performance over three runs (``executions_per_trial=3``)."
      ]
    },
    {
      "cell_type": "code",
      "execution_count": 39,
      "metadata": {
        "id": "6DxSm-4b4k4d"
      },
      "outputs": [],
      "source": [
        "# This cell will be assessed. Replace the ... with your code\n",
        "\n",
        "def tune_train_classification_net(X_train, y_train, n_iter, project_name):\n",
        "    \"\"\"\n",
        "    Tunes and trains a classification neural network using Random Search.\n",
        "\n",
        "    Parameters:\n",
        "    - X_train (DataFrame): Training features.\n",
        "    - y_train (DataFrame): Training target values (one-hot or integer labels).\n",
        "    - n_iter (int): Number of hyperparameter configurations to try.\n",
        "    - project_name (str): Name for organizing logs and results.\n",
        "\n",
        "    Returns:\n",
        "    - model: Trained Keras model with the best hyperparameters.\n",
        "    \"\"\"\n",
        "    ... # TODO\n",
        "    D_i = X_train.shape[1]\n",
        "    D_o = y_train.shape[1]\n",
        "    D_h = round((D_i * D_o) ** 0.5)\n",
        "\n",
        "    if D_h <= 8:\n",
        "      step_size = 2\n",
        "    else:\n",
        "      step_size = 8\n",
        "    def build_model(hp):\n",
        "        model = Sequential()\n",
        "        model.add(Input(shape=(D_i,)))\n",
        "        for i in range(hp.Int('num_layers', 1, 3)):\n",
        "            model.add(Dense(\n",
        "                units=hp.Int(f'units_{i}', min_value=D_h // 2, max_value=D_h * 2, step=step_size),\n",
        "                activation=hp.Choice(f'activation_{i}', ['relu', 'tanh', 'sigmoid'])))\n",
        "\n",
        "        model.add(Dense(D_o, activation='softmax'))\n",
        "        learning_rate = hp.Float('learning_rate', 1e-4, 1e-2, sampling='log')\n",
        "        optimizer = hp.Choice('optimizer', ['adam', '\n",
        "\n",
        "\n",
        "\n",
        "\n",
        "\n",
        "\n",
        "\n",
        "\n",
        "\n",
        "\n",
        "\n",
        "\n",
        "\n",
        "\n",
        "\n",
        "\n",
        "\n",
        "\n",
        "\n",
        "\n",
        "\n",
        "\n",
        "\n",
        "\n",
        "\n",
        "\n",
        "\n",
        "\n",
        "\n",
        "\n",
        "\n",
        "\n",
        "\n",
        "        '])\n",
        "        if optimizer == Adam():\n",
        "            model.compile(optimizer=Adam(learning_rate),\n",
        "                            loss='categorical_crossentropy',\n",
        "                            metrics=['accuracy'])\n",
        "        else:\n",
        "            model.compile(optimizer=SGD(learning_rate),\n",
        "                            loss='categorical_crossentropy',\n",
        "                            metrics=['accuracy'] )\n",
        "\n",
        "        return model\n",
        "    tuner = RandomSearch(\n",
        "        hypermodel=build_model,\n",
        "        objective='val_accuracy',\n",
        "        max_trials=n_iter,\n",
        "        executions_per_trial=3,\n",
        "        directory='hyperparam_tuning',\n",
        "        project_name=project_name,\n",
        "        overwrite=True\n",
        "    )\n",
        "\n",
        "    early_stopping = tf.keras.callbacks.EarlyStopping(monitor='val_loss', patience=5, restore_best_weights=True)\n",
        "    reduce_lr = tf.keras.callbacks.ReduceLROnPlateau(monitor='val_loss', factor=0.5, patience=3, min_lr=1e-5)\n",
        "    tuner.search(X_train, y_train, epochs=30, validation_split=0.2, batch_size=32, verbose=1, callbacks=[early_stopping, reduce_lr])\n",
        "    model = tuner.get_best_models(num_models=1)[0]\n",
        "\n",
        "    return model"
      ]
    },
    {
      "cell_type": "markdown",
      "metadata": {
        "id": "xV5ciCaI4k4d"
      },
      "source": [
        "#### Important notice about the runtime\n",
        "\n",
        "Hyperparameter tuning can take a lot of time, as most Machine Learning algorithms have many hyperparameters, and testing all possible combinations can lead to a combinatorial explosion.\n",
        "\n",
        "To make comparisons fairer, we will limit the hyperparameter search to using no more than **approximately** 30 minutes of computing time.\n",
        "\n",
        "The table above tells us the training time for a single model. For instance, if a random forest takes 4s for the adult dataset, then in 1,800 seconds (30 minutes), we can train 1,800 / 4 = 450 models. Each hyperparameter combination performance will be an average of three repetitions. Thus, we can assess 450 / 3 = 150 hyperparameter combinations.\n",
        "\n",
        "We will control the time using the ``n_iter`` parameter. This parameter defines the maximum number of parameter combinations sampled and tested during the search. Given their smaller number of hyperparameters, some inducers, particularly the trees, may run much faster than 30 minutes.\n",
        "\n",
        "This is a rough approximation based on a single run of the default models. Thus, some models may run faster or slower than 30 minutes."
      ]
    },
    {
      "cell_type": "code",
      "execution_count": null,
      "metadata": {
        "colab": {
          "base_uri": "https://localhost:8080/"
        },
        "id": "golq2bmk4k4e",
        "outputId": "5052909b-c898-4f16-8c1f-bbe38f419593"
      },
      "outputs": [
        {
          "output_type": "stream",
          "name": "stdout",
          "text": [
            "Trial 1 Complete [00h 29m 16s]\n",
            "val_accuracy: 0.6416157682736715\n",
            "\n",
            "Best val_accuracy So Far: 0.6416157682736715\n",
            "Total elapsed time: 00h 29m 16s\n",
            "\n",
            "Search: Running Trial #2\n",
            "\n",
            "Value             |Best Value So Far |Hyperparameter\n",
            "2                 |2                 |num_layers\n",
            "25                |9                 |units_0\n",
            "tanh              |tanh              |activation_0\n",
            "0.0063023         |0.00032168        |learning_rate\n",
            "sgd               |sgd               |optimizer\n",
            "33                |9                 |units_1\n",
            "sigmoid           |relu              |activation_1\n",
            "\n",
            "Epoch 1/30\n",
            "\u001b[1m9684/9684\u001b[0m \u001b[32m━━━━━━━━━━━━━━━━━━━━\u001b[0m\u001b[37m\u001b[0m \u001b[1m20s\u001b[0m 2ms/step - accuracy: 0.4950 - loss: 1.1698 - val_accuracy: 0.6069 - val_loss: 0.9416 - learning_rate: 0.0063\n",
            "Epoch 2/30\n",
            "\u001b[1m9684/9684\u001b[0m \u001b[32m━━━━━━━━━━━━━━━━━━━━\u001b[0m\u001b[37m\u001b[0m \u001b[1m19s\u001b[0m 2ms/step - accuracy: 0.6199 - loss: 0.9100 - val_accuracy: 0.6328 - val_loss: 0.8447 - learning_rate: 0.0063\n",
            "Epoch 3/30\n",
            "\u001b[1m9684/9684\u001b[0m \u001b[32m━━━━━━━━━━━━━━━━━━━━\u001b[0m\u001b[37m\u001b[0m \u001b[1m18s\u001b[0m 2ms/step - accuracy: 0.6349 - loss: 0.8353 - val_accuracy: 0.6423 - val_loss: 0.8089 - learning_rate: 0.0063\n",
            "Epoch 4/30\n",
            "\u001b[1m2070/9684\u001b[0m \u001b[32m━━━━\u001b[0m\u001b[37m━━━━━━━━━━━━━━━━\u001b[0m \u001b[1m14s\u001b[0m 2ms/step - accuracy: 0.6431 - loss: 0.8055"
          ]
        }
      ],
      "source": [
        "# Do not change the code in this cell.\n",
        "# This cell has no code to write. It trains and assesses your optimised neural net model using the classification datasets.\n",
        "\n",
        "timeout_in_seconds = 1800\n",
        "datasets = [\"adult\", \"covertype\", \"fashion_mnist\", \"creditcard\"]\n",
        "\n",
        "for dataset in datasets:\n",
        "    print(f\"Processing dataset: {dataset}\")\n",
        "\n",
        "    # Load the train and test data\n",
        "    X_train, y_train, X_test, y_test = load_train_test_data(f\"data/{dataset}/nn/\")\n",
        "\n",
        "    print(\"\\tTuning and training neural net model\")\n",
        "\n",
        "    start = time.time()\n",
        "    model = tune_train_classification_net(X_train, y_train, int(timeout_in_seconds / 3 / results[\"Neural Net\"][dataset][\"Training time\"]), dataset)\n",
        "    end = time.time()\n",
        "\n",
        "    # Make predictions\n",
        "    test_loss, test_accuracy = model.evaluate(X_test, y_test)\n",
        "    print(f'\\t\\tTest error rate: {1 - test_accuracy:.4f}')\n",
        "    print(f'\\t\\tRuntime to hyperparameter search and model training: {end-start} seconds')\n",
        "\n",
        "    results[\"Neural Net (HO)\"].setdefault(dataset, {})\n",
        "    results[\"Neural Net (HO)\"][dataset][\"Prediction quality\"] = 1 - test_accuracy\n",
        "    results[\"Neural Net (HO)\"][dataset][\"Training time\"] = end-start"
      ]
    },
    {
      "cell_type": "markdown",
      "metadata": {
        "id": "anD-GlmD4k4e"
      },
      "source": [
        "### Task 3.2 [8 Marks] - Hyperparameter optimisation for regression Neural Nets\n",
        "\n",
        "Create a function ``tune_train_regression_net(X_train, y_train, n_iter, project_name)`` that uses Keras tuner's ``RandomSearch`` to optimise the hyperparameters of a regression neural net model. ``X_train`` and ``y_train`` are pandas dataframes with the training data and target values. ``n_iter`` is the maximum number of iterations in the random search. ``project_name`` is an identifier used by Keras tuner to save the results on disk.\n",
        "\n",
        "You have the freedom to choose your hyperparameter search space. You can use the same hyperparameter recommendations given for classification.\n",
        "\n",
        "Your function should return the Keras model that achieved the best performance in a validation set of 20% of the training data. Average performance over three runs (``executions_per_trial=3``)."
      ]
    },
    {
      "cell_type": "code",
      "execution_count": null,
      "metadata": {
        "id": "oRVcUjrC4k4e"
      },
      "outputs": [],
      "source": [
        "# This cell will be assessed. Replace the ... with your code\n",
        "\n",
        "def tune_train_regression_net(X_train, y_train, n_iter, project_name):\n",
        "    \"\"\"\n",
        "    Tunes and trains a regression neural network using Random Search.\n",
        "\n",
        "    Parameters:\n",
        "    - X_train (DataFrame): Training features.\n",
        "    - y_train (DataFrame): Training target values.\n",
        "    - n_iter (int): Number of hyperparameter configurations to try.\n",
        "    - project_name (str): Name for organising logs and results.\n",
        "\n",
        "    Returns:\n",
        "    - model: Trained Keras model with the best hyperparameters.\n",
        "    \"\"\"\n",
        "    ... # TODO\n",
        "    D_i = X_train.shape[1]\n",
        "    D_h = round((D_i * D_o) ** 0.5)\n",
        "    if len(y_train.shape) > 1:\n",
        "      D_o = y_train.shape\n",
        "    else:\n",
        "      D_o = 1\n",
        "\n",
        "    def build_model(hp):\n",
        "\n",
        "        model = Sequential()\n",
        "        model.add(Input(shape=(D_i,)))\n",
        "        for i in range(hp.Int('num_layers', 1, 3)):\n",
        "            model.add(Dense(\n",
        "                units=hp.Int(f'units_{i}', min_value=D_h, max_value=D_h * 6, step=2),\n",
        "                activation=hp.Choice(f'activation_{i}', ['relu', 'tanh', 'sigmoid'])  ))\n",
        "        model.add(Dense(D_o, activation='linear'))\n",
        "        learning_rate = hp.Float('learning_rate', 1e-4, 1e-2, sampling='log')\n",
        "        optimizer = hp.Choice('optimizer', ['adam', 'sgd'])\n",
        "\n",
        "        if optimizer == Adam():\n",
        "            model.compile(optimizer=Adam(learning_rate), loss='mse', metrics=['mse'])\n",
        "        else:\n",
        "            model.compile(optimizer=SGD(learning_rate), loss='mse', metrics=['mse'])\n",
        "\n",
        "        return model\n",
        "\n",
        "    tuner = RandomSearch(\n",
        "        hypermodel=build_model,\n",
        "        objective='val_mse',\n",
        "        max_trials=n_iter,\n",
        "        executions_per_trial=3,\n",
        "        directory='hyperparam_tuning',\n",
        "        project_name=project_name,\n",
        "        overwrite=True\n",
        "    )\n",
        "\n",
        "    early_stopping = tf.keras.callbacks.EarlyStopping(monitor='val_loss', patience=5, restore_best_weights=True)\n",
        "    reduce_lr = tf.keras.callbacks.ReduceLROnPlateau(monitor='val_loss', factor=0.5, patience=3, min_lr=1e-5)\n",
        "    tuner.search(X_train, y_train, epochs=30, validation_split=0.2, batch_size=32, verbose=1, callbacks=[early_stopping, reduce_lr])\n",
        "    model = tuner.get_best_models(num_models=1)[0]\n",
        "\n",
        "    return model"
      ]
    },
    {
      "cell_type": "code",
      "execution_count": 1,
      "metadata": {
        "colab": {
          "base_uri": "https://localhost:8080/",
          "height": 228
        },
        "id": "IfUJgS1T4k4e",
        "outputId": "60792f83-f9e6-4e0c-e345-3721a3f02c31"
      },
      "outputs": [
        {
          "output_type": "stream",
          "name": "stdout",
          "text": [
            "Processing dataset: california_housing\n"
          ]
        },
        {
          "output_type": "error",
          "ename": "NameError",
          "evalue": "name 'load_train_test_data' is not defined",
          "traceback": [
            "\u001b[0;31m---------------------------------------------------------------------------\u001b[0m",
            "\u001b[0;31mNameError\u001b[0m                                 Traceback (most recent call last)",
            "\u001b[0;32m<ipython-input-1-1a07602c0029>\u001b[0m in \u001b[0;36m<cell line: 7>\u001b[0;34m()\u001b[0m\n\u001b[1;32m      9\u001b[0m \u001b[0;34m\u001b[0m\u001b[0m\n\u001b[1;32m     10\u001b[0m     \u001b[0;31m# Load the train and test data\u001b[0m\u001b[0;34m\u001b[0m\u001b[0;34m\u001b[0m\u001b[0m\n\u001b[0;32m---> 11\u001b[0;31m     \u001b[0mX_train\u001b[0m\u001b[0;34m,\u001b[0m \u001b[0my_train\u001b[0m\u001b[0;34m,\u001b[0m \u001b[0mX_test\u001b[0m\u001b[0;34m,\u001b[0m \u001b[0my_test\u001b[0m \u001b[0;34m=\u001b[0m \u001b[0mload_train_test_data\u001b[0m\u001b[0;34m(\u001b[0m\u001b[0;34mf\"data/{dataset}/nn/\"\u001b[0m\u001b[0;34m)\u001b[0m\u001b[0;34m\u001b[0m\u001b[0;34m\u001b[0m\u001b[0m\n\u001b[0m\u001b[1;32m     12\u001b[0m \u001b[0;34m\u001b[0m\u001b[0m\n\u001b[1;32m     13\u001b[0m     \u001b[0mprint\u001b[0m\u001b[0;34m(\u001b[0m\u001b[0;34m\"Tuning and training neural net model\"\u001b[0m\u001b[0;34m)\u001b[0m\u001b[0;34m\u001b[0m\u001b[0;34m\u001b[0m\u001b[0m\n",
            "\u001b[0;31mNameError\u001b[0m: name 'load_train_test_data' is not defined"
          ]
        }
      ],
      "source": [
        "# Do not change the code in this cell.\n",
        "# This cell has no code to write. It trains and assesses your neural net model using the regression dataset.\n",
        "\n",
        "timeout_in_seconds = 1800\n",
        "datasets = [\"california_housing\"]\n",
        "\n",
        "for dataset in datasets:\n",
        "    print(f\"Processing dataset: {dataset}\")\n",
        "\n",
        "    # Load the train and test data\n",
        "    X_train, y_train, X_test, y_test = load_train_test_data(f\"data/{dataset}/nn/\")\n",
        "\n",
        "    print(\"Tuning and training neural net model\")\n",
        "\n",
        "    start = time.time()\n",
        "    model = tune_train_regression_net(X_train, y_train, int(timeout_in_seconds / 3 / results[\"Neural Net\"][dataset][\"Training time\"]), dataset)\n",
        "    end = time.time()\n",
        "\n",
        "    # Make predictions\n",
        "    test_loss, test_mse = model.evaluate(X_test, y_test)\n",
        "    print(f'Test MSE: {test_mse:.4f}')\n",
        "    print(f'Runtime to hyperparameter search and model training: {end-start} seconds')\n",
        "\n",
        "    results[\"Neural Net (HO)\"].setdefault(dataset, {})\n",
        "    results[\"Neural Net (HO)\"][dataset][\"Prediction quality\"] = test_mse\n",
        "    results[\"Neural Net (HO)\"][dataset][\"Training time\"] = end-start"
      ]
    },
    {
      "cell_type": "markdown",
      "metadata": {
        "id": "A9zgLD0E4k4e"
      },
      "source": [
        "### Task 3.3 [4 Marks] - Hyperparameter optimisation for decision trees\n",
        "\n",
        "We will train the decision trees with hyperparameter optimisation. Our code will implement the search using the ``RandomizedSearchCV`` class.\n",
        "\n",
        "We will create the function ``tune_train_classification_tree(X_train, y_train, n_iter)``, which optimises hyperparameters and returns a scikit-learn model trained with the best parameters.\n",
        "\n",
        "You have the freedom to define your hyperparameter search space. Here are some suggestions:\n",
        "- Maximum tree depth from 10 to 40 with increments of 10. Include None, too.\n",
        "- Minimum samples in a split: 2, 5, 10, 20.\n",
        "- Minimum samples in a leaf node: 1, 2, 5, and 10.\n",
        "- Splitting criteria: gine and entropy.\n",
        "\n",
        "The function will search for the best combination of hyperparameter values and return a model trained in such a combination in the complete training set. During the search, average the performance using 3-fold cross-validation (``cv=3``)."
      ]
    },
    {
      "cell_type": "code",
      "execution_count": null,
      "metadata": {
        "id": "F-Nx53HJ4k4e"
      },
      "outputs": [],
      "source": [
        "# This cell will be assessed. Replace the ... with your code\n",
        "\n",
        "def tune_train_classification_tree(X_train, y_train, n_iter):\n",
        "    \"\"\"\n",
        "    Tunes and trains a Decision Tree for classification using Randomized Search.\n",
        "\n",
        "    Parameters:\n",
        "    - X_train (DataFrame): Training features.\n",
        "    - y_train (DataFrame): Training target values (class labels).\n",
        "    - n_iter (int): Number of hyperparameter configurations to try during the search.\n",
        "\n",
        "    Returns:\n",
        "    - model: Trained Decision Tree classifier with the best-found hyperparameters.\n",
        "    \"\"\"\n",
        "    ... # TODO\n",
        "    initial_param_space = {\n",
        "        'max_depth': [10, 20, 30, 40, None],\n",
        "        'min_samples_split': [2, 5, 10, 20],\n",
        "        'min_samples_leaf': [1, 2, 5, 10],\n",
        "        'criterion': ['gini', 'entropy']\n",
        "    }\n",
        "\n",
        "    initial_search = RandomizedSearchCV(\n",
        "        estimator = DecisionTreeClassifier(),\n",
        "        param_distributions = initial_param_space,\n",
        "        n_iter = n_iter,\n",
        "        cv = 3,\n",
        "        scoring = custom_accuracy_scorer,\n",
        "        random_state = 42,\n",
        "        verbose = 1\n",
        "    )\n",
        "\n",
        "    initial_search.fit(X_train, y_train)\n",
        "    best_params = initial_search.best_params_\n",
        "    fine_tune_param_space = {\n",
        "        'max_depth': [\n",
        "            max(1, best_params['max_depth'] - 10) if best_params['max_depth'] is not None else 20,\n",
        "            best_params['max_depth'],\n",
        "            min(50, best_params['max_depth'] + 10) if best_params['max_depth'] is not None else 40],\n",
        "        'min_samples_split': [\n",
        "            max(2, best_params['min_samples_split'] - 3),\n",
        "            best_params['min_samples_split'],\n",
        "            min(20, best_params['min_samples_split'] + 3)],\n",
        "        'min_samples_leaf': [\n",
        "            max(1, best_params['min_samples_leaf'] - 1),\n",
        "            best_params['min_samples_leaf'],\n",
        "            min(10, best_params['min_samples_leaf'] + 1)],\n",
        "        'criterion': [best_params['criterion']]\n",
        "    }\n",
        "    if all(d is None for d in fine_tune_param_space['max_depth']):\n",
        "        fine_tune_param_space['max_depth'] = [10, 20, 30]\n",
        "\n",
        "    fine_tune_search = RandomizedSearchCV(\n",
        "        estimator=DecisionTreeClassifier(),\n",
        "        param_distributions=fine_tune_param_space,\n",
        "        n_iter = n_iter // 2,\n",
        "        scoring = custom_accuracy_scorer,\n",
        "        cv = 3,\n",
        "        random_state = 42,\n",
        "        verbose = 1\n",
        "    )\n",
        "\n",
        "    fine_tune_search.fit(X_train, y_train)\n",
        "    model = fine_tune_search.best_estimator_\n",
        "    return model\n"
      ]
    },
    {
      "cell_type": "code",
      "execution_count": null,
      "metadata": {
        "id": "Wc7Rf2ta4k4e"
      },
      "outputs": [],
      "source": [
        "# Do not change the code in this cell.\n",
        "# This cell has no code to write. It trains and assesses your decision tree model using the classification datasets.\n",
        "\n",
        "timeout_in_seconds = 1800\n",
        "datasets = [\"adult\", \"covertype\", \"fashion_mnist\", \"creditcard\"]\n",
        "\n",
        "for dataset in datasets:\n",
        "    print(f\"Processing dataset: {dataset}\")\n",
        "\n",
        "    # Load the train and test data\n",
        "    X_train, y_train, X_test, y_test = load_train_test_data(f\"data/{dataset}/tree/\")\n",
        "\n",
        "    print(\"\\tTuning and training decision tree model\")\n",
        "\n",
        "    start = time.time()\n",
        "    model = tune_train_classification_tree(X_train, np.array(y_train).ravel(), int(timeout_in_seconds / 3 / results[\"Decision Tree\"][dataset][\"Training time\"]))\n",
        "    end = time.time()\n",
        "\n",
        "    # Make predictions\n",
        "    y_pred = model.predict(X_test)\n",
        "    test_accuracy = accuracy_score(y_test, y_pred)\n",
        "\n",
        "    print(f'\\t\\tTest error rate: {1 - test_accuracy:.4f}')\n",
        "    print(f'\\t\\tRuntime to hyperparameter search and model training: {end-start} seconds')\n",
        "\n",
        "    results[\"Decision Tree (HO)\"].setdefault(dataset, {})\n",
        "    results[\"Decision Tree (HO)\"][dataset][\"Prediction quality\"] = 1 - test_accuracy\n",
        "    results[\"Decision Tree (HO)\"][dataset][\"Training time\"] = end-start"
      ]
    },
    {
      "cell_type": "markdown",
      "metadata": {
        "id": "ZxopTEZk4k4e"
      },
      "source": [
        "### Task 3.4 [4 Marks] - Hyperparameter optimisation for regression trees\n",
        "\n",
        "We will train the regression trees with hyperparameter optimisation through the function ``tune_train_regression_tree(X_train, y_train, n_iter)``, which optimises hyperparameters and returns a scikit-learn model trained with the best parameters.\n",
        "\n",
        "You can use the same suggestion for the hyperparameter space provided in the previous task. However, the splitting criteria suitable for regression trees are different. We suggest ``squared_error``, ``friedman_mse``, and ``absolute_error``.\n",
        "\n",
        "The function will search for the best combination of hyperparameter values and return a model trained in such combination in the complete training set. During the search, average the performance using 3-fold cross-validation (``cv=3``)."
      ]
    },
    {
      "cell_type": "code",
      "execution_count": null,
      "metadata": {
        "id": "Hb8T8g0t4k4f"
      },
      "outputs": [],
      "source": [
        "# This cell will be assessed. Replace the ... with your code\n",
        "\n",
        "def tune_train_regression_tree(X_train, y_train, n_iter):\n",
        "    \"\"\"\n",
        "    Tunes and trains a Regression Tree using Randomized Search.\n",
        "\n",
        "    Parameters:\n",
        "    - X_train (DataFrame): Training features.\n",
        "    - y_train (DataFrame): Training target values (continuous values).\n",
        "    - n_iter (int): Number of hyperparameter configurations to try during the search.\n",
        "\n",
        "    Returns:\n",
        "    - model: Trained Regression Tree with the best-found hyperparameters.\n",
        "    \"\"\"\n",
        "    ... # TODO\n",
        "    param_distributions = {\n",
        "        'max_depth': [10, 20, 30, 40, None],\n",
        "        'min_samples_split': [2, 5, 10, 20],\n",
        "        'min_samples_leaf': [1, 2, 5, 10],\n",
        "        'criterion': ['squared_error', 'friedman_mse', 'absolute_error']\n",
        "    }\n",
        "    regressor = DecisionTreeRegressor()\n",
        "    random_search = RandomizedSearchCV(\n",
        "        estimator=regressor,\n",
        "        param_distributions=param_distributions,\n",
        "        n_iter=n_iter,\n",
        "        scoring='neg_mean_squared_error',\n",
        "        cv=3,\n",
        "        random_state=42,\n",
        "        verbose=1\n",
        "    )\n",
        "    random_search.fit(X_train, y_train)\n",
        "    model = random_search.best_estimator_\n",
        "\n",
        "    return model"
      ]
    },
    {
      "cell_type": "code",
      "execution_count": null,
      "metadata": {
        "id": "10M9v1Kf4k4f"
      },
      "outputs": [],
      "source": [
        "# Do not change the code in this cell.\n",
        "# This cell has no code to write. It trains and assesses your regression model using the regression dataset.\n",
        "\n",
        "timeout_in_seconds = 1800\n",
        "datasets = [\"california_housing\"]\n",
        "\n",
        "for dataset in datasets:\n",
        "    print(f\"Processing dataset: {dataset}\")\n",
        "\n",
        "    # Load the train and test data\n",
        "    X_train, y_train, X_test, y_test = load_train_test_data(f\"data/{dataset}/tree/\")\n",
        "\n",
        "    print(\"Training random forest model\")\n",
        "\n",
        "    start = time.time()\n",
        "    model = tune_train_regression_tree(X_train, np.array(y_train).ravel(), int(timeout_in_seconds / 3 / results[\"Decision Tree\"][dataset][\"Training time\"]))\n",
        "    end = time.time()\n",
        "\n",
        "    # Make predictions\n",
        "    y_pred = model.predict(X_test)\n",
        "    test_mse = mean_squared_error(y_test, y_pred)\n",
        "\n",
        "    print(f'Test MSE: {test_mse:.4f}')\n",
        "    print(f'\\t\\tRuntime to hyperparameter search and model training: {end-start} seconds')\n",
        "\n",
        "    results[\"Decision Tree (HO)\"].setdefault(dataset, {})\n",
        "    results[\"Decision Tree (HO)\"][dataset][\"Prediction quality\"] = test_mse\n",
        "    results[\"Decision Tree (HO)\"][dataset][\"Training time\"] = end-start"
      ]
    },
    {
      "cell_type": "markdown",
      "metadata": {
        "id": "6krvYRKI4k4f"
      },
      "source": [
        "### Task 3.5 [4 Marks] - Hyperparameter optimisation for decision forest\n",
        "\n",
        "We will create the function ``tune_train_classification_forest(X_train, y_train, n_iter)``, which optimises hyperparameters for a classification random forest and returns a scikit-learn model trained with the best parameters.\n",
        "\n",
        "You have the freedom to define your hyperparameter search space. Here are some suggestions:\n",
        "- Number of estimators (trees): 50, 100, 200.\n",
        "- Maximum tree depth from 10 to 40 with increments of 10. Include None, too.\n",
        "- Minimum samples in a split: 2, 5, 10, 20.\n",
        "- Minimum samples in a leaf node: 1, 2, 5, and 10.\n",
        "- Splitting criteria: gine and entropy.\n",
        "- Bootstrap sampling: yes and no.\n",
        "\n",
        "The function will search for the best combination of hyperparameter values and return a model trained in such combination in the complete training set. During the search, average the performance using 3-fold cross-validation (``cv=3``)."
      ]
    },
    {
      "cell_type": "code",
      "execution_count": null,
      "metadata": {
        "id": "LoHegNcC4k4f"
      },
      "outputs": [],
      "source": [
        "# This cell will be assessed. Replace the ... with your code\n",
        "\n",
        "def tune_train_classification_forest(X_train, y_train, n_iter):\n",
        "    \"\"\"\n",
        "    Tunes and trains a Random Forest classifier using Randomized Search.\n",
        "\n",
        "    Parameters:\n",
        "    - X_train (DataFrame): Training features.\n",
        "    - y_train (DataFrame): Training target values (class labels).\n",
        "    - n_iter (int): Number of hyperparameter configurations to try during the search.\n",
        "\n",
        "    Returns:\n",
        "    - model: Trained Random Forest classifier with the best-found hyperparameters.\n",
        "    \"\"\"\n",
        "    ... # TODO\n",
        "     param_distributions = {\n",
        "        'n_estimators': [50, 100, 200],\n",
        "        'max_depth': [10, 20, 30, 40, None],\n",
        "        'min_samples_split': [2, 5, 10, 20],\n",
        "        'min_samples_leaf': [1, 2, 5, 10],\n",
        "        'criterion': ['gini', 'entropy'],\n",
        "        'bootstrap': [True, False]}\n",
        "\n",
        "    classifier = RandomForestClassifier(random_state=42)\n",
        "    random_search = RandomizedSearchCV(\n",
        "        estimator=classifier,\n",
        "        param_distributions=param_distributions,\n",
        "        n_iter=n_iter,\n",
        "        scoring='accuracy',\n",
        "        cv=3,\n",
        "        random_state = 42\n",
        "        verbose=1\n",
        "    )\n",
        "\n",
        "    random_search.fit(X_train, y_train)\n",
        "    model = random_search.best_estimator_\n",
        "\n",
        "    return model"
      ]
    },
    {
      "cell_type": "code",
      "execution_count": null,
      "metadata": {
        "id": "vsjgbwpb4k4f"
      },
      "outputs": [],
      "source": [
        "# Do not change the code in this cell.\n",
        "# This cell has no code to write. It trains and assesses your random forest model using the classification datasets.\n",
        "\n",
        "timeout_in_seconds = 1800\n",
        "datasets = [\"adult\", \"covertype\", \"fashion_mnist\", \"creditcard\"]\n",
        "\n",
        "for dataset in datasets:\n",
        "    print(f\"Processing dataset: {dataset}\")\n",
        "\n",
        "    # Load the train and test data\n",
        "    X_train, y_train, X_test, y_test = load_train_test_data(f\"data/{dataset}/tree/\")\n",
        "\n",
        "    print(\"\\tTuning and training random forest model\")\n",
        "\n",
        "    start = time.time()\n",
        "    model = tune_train_classification_forest(X_train, np.array(y_train).ravel(), int(timeout_in_seconds / 3 / results[\"Random Forest\"][dataset][\"Training time\"]))\n",
        "    end = time.time()\n",
        "\n",
        "    # Make predictions\n",
        "    y_pred = model.predict(X_test)\n",
        "    test_accuracy = accuracy_score(y_test, y_pred)\n",
        "\n",
        "    print(f'\\t\\tTest error rate: {1 - test_accuracy:.4f}')\n",
        "    print(f'\\t\\tRuntime to hyperparameter search and model training: {end-start} seconds')\n",
        "\n",
        "    results[\"Random Forest (HO)\"].setdefault(dataset, {})\n",
        "    results[\"Random Forest (HO)\"][dataset][\"Prediction quality\"] = 1 - test_accuracy\n",
        "    results[\"Random Forest (HO)\"][dataset][\"Training time\"] = end-start"
      ]
    },
    {
      "cell_type": "markdown",
      "metadata": {
        "id": "tkl8MwVH4k4f"
      },
      "source": [
        "### Task 3.6 [4 Marks] - Hyperparameter optimisation for regression forest\n",
        "\n",
        "We will create the function ``tune_train_regression_forest(X_train, y_train, n_iter)``, which optimises hyperparameters for a regression random forest and returns a scikit-learn model trained with the best parameters.\n",
        "\n",
        "You have the freedom to define your hyperparameter search space. Our recommendations are similar for the classification forest. However, the splitting criteria suitable for regression problems are ``squared_error``, ``friedman_mse``, and ``absolute_error``.\n",
        "\n",
        "The function will search for the best combination of hyperparameter values and return a model trained in such combination in the complete training set. During the search, average the performance using 3-fold cross-validation (``cv=3``)."
      ]
    },
    {
      "cell_type": "code",
      "execution_count": null,
      "metadata": {
        "id": "YX5Io0tY4k4f"
      },
      "outputs": [],
      "source": [
        "# This cell will be assessed. Replace the ... with your code\n",
        "\n",
        "def tune_train_regression_forest(X_train, y_train, n_iter):\n",
        "    \"\"\"\n",
        "    Tunes and trains a Random Forest regressor using Randomized Search.\n",
        "\n",
        "    Parameters:\n",
        "    - X_train (DataFrame): Training features.\n",
        "    - y_train (DataFrame): Training target values (continuous values).\n",
        "    - n_iter (int): Number of hyperparameter configurations to try during the search.\n",
        "\n",
        "    Returns:\n",
        "    - model: Trained Random Forest regressor with the best-found hyperparameters.\n",
        "    \"\"\"\n",
        "    ... # TODO\n",
        "    param_distributions = {\n",
        "        'n_estimators': [50, 100, 200, 300],\n",
        "        'max_depth': [10, 20, 30, 40, None],\n",
        "        'min_samples_split': [2, 5, 10, 20],\n",
        "        'min_samples_leaf': [1, 2, 5, 10],\n",
        "        'max_features': ['auto', 'sqrt', 'log2'],\n",
        "        'criterion': ['squared_error', 'friedman_mse', 'absolute_error']\n",
        "    }\n",
        "\n",
        "    rf = RandomForestRegressor()\n",
        "    random_search = RandomizedSearchCV(\n",
        "        estimator=rf,\n",
        "        param_distributions=param_distributions,\n",
        "        n_iter=n_iter,\n",
        "        cv=3,\n",
        "        scoring='neg_mean_squared_error',\n",
        "        random_state=42,\n",
        "        n_jobs=-1\n",
        "    )\n",
        "\n",
        "    random_search.fit(X_train, y_train)\n",
        "    model = random_search.best_estimator_\n",
        "\n",
        "    return model"
      ]
    },
    {
      "cell_type": "code",
      "execution_count": null,
      "metadata": {
        "id": "EyelpJSY4k4f"
      },
      "outputs": [],
      "source": [
        "# Do not change the code in this cell.\n",
        "# This cell has no code to write. It trains and assesses your random forest model using the regression dataset.\n",
        "\n",
        "timeout_in_seconds = 1800\n",
        "datasets = [\"california_housing\"]\n",
        "\n",
        "for dataset in datasets:\n",
        "    print(f\"Processing dataset: {dataset}\")\n",
        "\n",
        "    # Load the train and test data\n",
        "    X_train, y_train, X_test, y_test = load_train_test_data(f\"data/{dataset}/tree/\")\n",
        "\n",
        "    print(\"Training random forest model\")\n",
        "\n",
        "    start = time.time()\n",
        "    model = tune_train_regression_forest(X_train, np.array(y_train).ravel(), int(timeout_in_seconds / 3 / results[\"Random Forest\"][dataset][\"Training time\"]))\n",
        "    end = time.time()\n",
        "\n",
        "    # Make predictions\n",
        "    y_pred = model.predict(X_test)\n",
        "    test_mse = mean_squared_error(y_test, y_pred)\n",
        "\n",
        "    print(f'Test MSE: {test_mse:.4f}')\n",
        "    print(f'Runtime to hyperparameter search and model training: {end-start} seconds')\n",
        "\n",
        "    results[\"Random Forest (HO)\"].setdefault(dataset, {})\n",
        "    results[\"Random Forest (HO)\"][dataset][\"Prediction quality\"] = test_mse\n",
        "    results[\"Random Forest (HO)\"][dataset][\"Training time\"] = end-start"
      ]
    },
    {
      "cell_type": "markdown",
      "metadata": {
        "id": "M2yqbOEP4k4g"
      },
      "source": [
        "The next cell tabulates all the results. HO stands for Hyperparameter Optimisation."
      ]
    },
    {
      "cell_type": "code",
      "execution_count": null,
      "metadata": {
        "id": "z1NeI6oa4k4g"
      },
      "outputs": [],
      "source": [
        "print_results_table(results)"
      ]
    },
    {
      "cell_type": "markdown",
      "metadata": {
        "id": "QBr1J5Jz4k4g"
      },
      "source": [
        "Congratulations! You have reached the end of the assignment. In the remaining of this document, you will analyse the results in a report."
      ]
    },
    {
      "cell_type": "markdown",
      "metadata": {
        "id": "O47E5Kl64k4g"
      },
      "source": [
        "## Task 4 [13 Marks] - Report\n",
        "\n",
        "Write a report with less than 1,000 words (around two pages) in the following cells using markdown. You can include graphs and tables in your report. Answer the following questions in your report.\n",
        "\n",
        "- [3 Marks] Discuss the performance of the algorithms in terms of prediction quality and training time. Use plots to compare these methods. Is there a method that stands out?\n",
        "- [3 Marks] Do you think any of the seven hypotheses (machine learning wisdom and misconceptions) presented at the beginning of this assignment are correct? Have you observed any evidence that supports them?\n",
        "- [3 Marks] Is the hyperparameter optimisation worth the time spent? Did you observe significant improvements in prediction quality?\n",
        "- [2 Marks] We have measured the training time of these models, but another important aspect is the inference time. Would you expect some models to be more efficient than others for inference? What is the importance of having efficient models for inference? What is the importance of having efficient models for training?\n",
        "- [2 Marks] The credit card dataset is imbalanced; in this situation, the error rate tends to be very small and difficult to interpret. Extend the performance analysis in this dataset to include the confusion matrix and F1 score. Analyse the performance of the classifiers under these performance measures."
      ]
    },
    {
      "cell_type": "markdown",
      "metadata": {
        "id": "L-PUOrWB4k4g"
      },
      "source": [
        "Use one or more cell here to write your report."
      ]
    }
  ],
  "metadata": {
    "kernelspec": {
      "display_name": "Python (tensorflow)",
      "language": "python",
      "name": "tensorflow"
    },
    "language_info": {
      "codemirror_mode": {
        "name": "ipython",
        "version": 3
      },
      "file_extension": ".py",
      "mimetype": "text/x-python",
      "name": "python",
      "nbconvert_exporter": "python",
      "pygments_lexer": "ipython3",
      "version": "3.8.18"
    },
    "colab": {
      "provenance": []
    }
  },
  "nbformat": 4,
  "nbformat_minor": 0
}